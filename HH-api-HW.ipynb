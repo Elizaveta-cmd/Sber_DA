{
 "cells": [
  {
   "cell_type": "markdown",
   "id": "18a51433",
   "metadata": {},
   "source": [
    "# Задание\n",
    "* Cкачайте все вакансии СБЕРа из api hh.ru (https://github.com/hhru/api у апи есть ограничение в 2000, подумайте как его обойти)\n",
    "* Извлеките все полные описания этих вакансий по запросу с https://api.hh.ru/vacancies/43326020 где 43326020 id вакансии\n",
    "* Создайте DataFrame в котором будут даты публикации вакансий, названия, описания,  только добавьте поле ключевые навыки\n",
    "* Переведите даты публикаций в формат datetime и постройте график опубликованных вакансий по датам\n",
    "* Переведите даты в дни недели, и определите день недели, в который больше всего публикуют вакансий\n",
    "* Найдите вакансии с использованием python, которые вам интересны\n",
    "* Определите по полю с ключевыми навыками, какие навыки больше всего востребованы для найденных вакансий\n",
    "* Постройте график наиболее востребованных навыков\n",
    "\n",
    "** В случае ответов от api.hh.ru с ошибками типа \"Captcha\" постарайтесь их обработать, например, с помощью time.sleep или изменения ip-адреса"
   ]
  },
  {
   "cell_type": "code",
   "execution_count": 1,
   "id": "f6424dd4",
   "metadata": {},
   "outputs": [],
   "source": [
    "import requests\n",
    "from tqdm.auto import tqdm\n",
    "import json\n",
    "import time\n",
    "import pandas as pd"
   ]
  },
  {
   "cell_type": "code",
   "execution_count": 2,
   "id": "5d40edb9",
   "metadata": {},
   "outputs": [],
   "source": [
    "url = f'https://api.hh.ru/areas/113'\n",
    "res = requests.get(url)\n",
    "vacancies = res.json()\n",
    "areas = list(set([i.get('id') for i in vacancies.get('areas')]))"
   ]
  },
  {
   "cell_type": "code",
   "execution_count": 3,
   "id": "cebf62ed",
   "metadata": {},
   "outputs": [
    {
     "data": {
      "text/plain": [
       "88"
      ]
     },
     "execution_count": 3,
     "metadata": {},
     "output_type": "execute_result"
    }
   ],
   "source": [
    "len(areas)"
   ]
  },
  {
   "cell_type": "code",
   "execution_count": 4,
   "id": "ffe892e5",
   "metadata": {},
   "outputs": [
    {
     "name": "stdout",
     "output_type": "stream",
     "text": [
      "88\n"
     ]
    }
   ],
   "source": [
    "i = 0\n",
    "areas_id = []\n",
    "while i < len(areas):\n",
    "    try:\n",
    "        url = 'https://api.hh.ru/vacancies?employer_id=3529&area='+str(areas[i])\n",
    "        res = requests.get(url)\n",
    "        region = res.json()\n",
    "        found_cnt = region.get('found')\n",
    "        areas_id.append([int(areas[i]), found_cnt])\n",
    "        i += 1\n",
    "    except:\n",
    "        i += 1\n",
    "print(len(areas_id))"
   ]
  },
  {
   "cell_type": "code",
   "execution_count": 5,
   "id": "181f4f59",
   "metadata": {},
   "outputs": [
    {
     "data": {
      "text/plain": [
       "81"
      ]
     },
     "execution_count": 5,
     "metadata": {},
     "output_type": "execute_result"
    }
   ],
   "source": [
    "data = [item for item in [areas_id[i] for i in range(len(areas_id))] if item[1] > 0]\n",
    "len(data)"
   ]
  },
  {
   "cell_type": "code",
   "execution_count": 6,
   "id": "308bf1e6",
   "metadata": {},
   "outputs": [
    {
     "data": {
      "text/plain": [
       "[1, 1419]"
      ]
     },
     "execution_count": 6,
     "metadata": {},
     "output_type": "execute_result"
    }
   ],
   "source": [
    "data = sorted(data, key=lambda item: item[1], reverse=True)\n",
    "data[0]"
   ]
  },
  {
   "cell_type": "code",
   "execution_count": 7,
   "id": "20d23c5d",
   "metadata": {},
   "outputs": [
    {
     "data": {
      "application/vnd.jupyter.widget-view+json": {
       "model_id": "59321ba9c1dc43788b5c68b55afd4bcd",
       "version_major": 2,
       "version_minor": 0
      },
      "text/plain": [
       "  0%|          | 0/81 [00:00<?, ?it/s]"
      ]
     },
     "metadata": {},
     "output_type": "display_data"
    },
    {
     "data": {
      "text/plain": [
       "6552"
      ]
     },
     "execution_count": 7,
     "metadata": {},
     "output_type": "execute_result"
    }
   ],
   "source": [
    "#Cкачайте все вакансии СБЕРа из api hh.ru (https://github.com/hhru/api у апи есть ограничение в 2000,\n",
    "#подумайте как его обойти)\n",
    "#получили все ИД вакансий Сбера\n",
    "all_vacancy_ids = []\n",
    "for x in tqdm(range(len(data))):\n",
    "    i =  0 \n",
    "    area = data[x][0]\n",
    "    stop = 0\n",
    "    while stop < 2000 and stop < data[x][1]:\n",
    "        try:\n",
    "            url = f'https://api.hh.ru/vacancies?employer_id=3529&page={i}&per_page=100&area={area}'\n",
    "            res = requests.get(url)\n",
    "            vacancies = res.json()\n",
    "            vacancy_ids = [el.get('id') for el in vacancies.get('items')]\n",
    "            all_vacancy_ids.extend(vacancy_ids)\n",
    "            stop += len(vacancy_ids)\n",
    "            time.sleep(1)\n",
    "            i += 1\n",
    "        except:\n",
    "            i += 1\n",
    "    time.sleep(3)\n",
    "len(all_vacancy_ids)"
   ]
  },
  {
   "cell_type": "code",
   "execution_count": 8,
   "id": "74b4e77b",
   "metadata": {},
   "outputs": [
    {
     "data": {
      "text/plain": [
       "'78533138'"
      ]
     },
     "execution_count": 8,
     "metadata": {},
     "output_type": "execute_result"
    }
   ],
   "source": [
    "all_vacancy_ids[-1]"
   ]
  },
  {
   "cell_type": "code",
   "execution_count": 9,
   "id": "05ded033",
   "metadata": {},
   "outputs": [
    {
     "data": {
      "application/vnd.jupyter.widget-view+json": {
       "model_id": "aa5a3c92019b4071b0a32c8aac56bd64",
       "version_major": 2,
       "version_minor": 0
      },
      "text/plain": [
       "  0%|          | 0/6552 [00:00<?, ?it/s]"
      ]
     },
     "metadata": {},
     "output_type": "display_data"
    },
    {
     "data": {
      "text/plain": [
       "6552"
      ]
     },
     "execution_count": 9,
     "metadata": {},
     "output_type": "execute_result"
    }
   ],
   "source": [
    "#Извлеките все полные описания этих вакансий по запросу с https://api.hh.ru/vacancies/43326020 где 43326020 id вакансии\n",
    "all_vacancy_description = []\n",
    "j = 0\n",
    "for i in tqdm(all_vacancy_ids):\n",
    "    vac_id = i\n",
    "    url = f'https://api.hh.ru/vacancies/{vac_id}'\n",
    "    res = requests.get(url)\n",
    "    vacancy = res.json()\n",
    "    if 'errors' not in vacancy:\n",
    "        all_vacancy_description.append(vacancy)  \n",
    "        j += 1\n",
    "        if j % 118 == 0:\n",
    "            time.sleep(60)\n",
    "        else:\n",
    "            continue\n",
    "    else:\n",
    "        break\n",
    "\n",
    "len(all_vacancy_description)"
   ]
  },
  {
   "cell_type": "code",
   "execution_count": 10,
   "id": "585efe36",
   "metadata": {},
   "outputs": [],
   "source": [
    "df_data = pd.DataFrame(all_vacancy_description)"
   ]
  },
  {
   "cell_type": "code",
   "execution_count": 11,
   "id": "6ad14686",
   "metadata": {},
   "outputs": [],
   "source": [
    "import pandas as pd\n",
    "pd.set_option('display.max_columns', None)\n",
    "pd.options.mode.chained_assignment = None"
   ]
  },
  {
   "cell_type": "code",
   "execution_count": 25,
   "id": "b9f6f3dd",
   "metadata": {},
   "outputs": [
    {
     "data": {
      "text/html": [
       "<div>\n",
       "<style scoped>\n",
       "    .dataframe tbody tr th:only-of-type {\n",
       "        vertical-align: middle;\n",
       "    }\n",
       "\n",
       "    .dataframe tbody tr th {\n",
       "        vertical-align: top;\n",
       "    }\n",
       "\n",
       "    .dataframe thead th {\n",
       "        text-align: right;\n",
       "    }\n",
       "</style>\n",
       "<table border=\"1\" class=\"dataframe\">\n",
       "  <thead>\n",
       "    <tr style=\"text-align: right;\">\n",
       "      <th></th>\n",
       "      <th>published_at</th>\n",
       "      <th>name</th>\n",
       "      <th>description</th>\n",
       "      <th>key_skills</th>\n",
       "    </tr>\n",
       "  </thead>\n",
       "  <tbody>\n",
       "    <tr>\n",
       "      <th>0</th>\n",
       "      <td>2023-03-15T10:26:21+0300</td>\n",
       "      <td>Project Manager в команду Импортозамещение Циф...</td>\n",
       "      <td>&lt;p&gt;Импортозамещение и КИБ являются одним из кл...</td>\n",
       "      <td>[{'name': 'Деловая коммуникация'}, {'name': 'О...</td>\n",
       "    </tr>\n",
       "    <tr>\n",
       "      <th>1</th>\n",
       "      <td>2023-03-14T10:39:55+0300</td>\n",
       "      <td>Project Manager в команду Проектного офиса Циф...</td>\n",
       "      <td>&lt;p&gt;&lt;strong&gt;Описание направления:&lt;/strong&gt;&lt;/p&gt; ...</td>\n",
       "      <td>[{'name': 'Управление проектами'}, {'name': 'А...</td>\n",
       "    </tr>\n",
       "    <tr>\n",
       "      <th>2</th>\n",
       "      <td>2023-03-15T10:25:03+0300</td>\n",
       "      <td>Руководитель проектов на интеграционные програ...</td>\n",
       "      <td>&lt;p&gt;&lt;strong&gt;Чем предстоит заниматься:&lt;/strong&gt;&lt;...</td>\n",
       "      <td>[{'name': 'Управление проектами'}]</td>\n",
       "    </tr>\n",
       "    <tr>\n",
       "      <th>3</th>\n",
       "      <td>2023-03-15T12:28:42+0300</td>\n",
       "      <td>Менеджер проектов в команду Салют Экраны B2B2C...</td>\n",
       "      <td>&lt;p&gt;Мы – активная и амбициозная команда в СберД...</td>\n",
       "      <td>[]</td>\n",
       "    </tr>\n",
       "    <tr>\n",
       "      <th>4</th>\n",
       "      <td>2023-03-28T19:44:40+0300</td>\n",
       "      <td>Product Owner в Премиальном сегменте СберПервый</td>\n",
       "      <td>&lt;p&gt;Мы ищем талантливого и опытного Product Own...</td>\n",
       "      <td>[]</td>\n",
       "    </tr>\n",
       "  </tbody>\n",
       "</table>\n",
       "</div>"
      ],
      "text/plain": [
       "               published_at  \\\n",
       "0  2023-03-15T10:26:21+0300   \n",
       "1  2023-03-14T10:39:55+0300   \n",
       "2  2023-03-15T10:25:03+0300   \n",
       "3  2023-03-15T12:28:42+0300   \n",
       "4  2023-03-28T19:44:40+0300   \n",
       "\n",
       "                                                name  \\\n",
       "0  Project Manager в команду Импортозамещение Циф...   \n",
       "1  Project Manager в команду Проектного офиса Циф...   \n",
       "2  Руководитель проектов на интеграционные програ...   \n",
       "3  Менеджер проектов в команду Салют Экраны B2B2C...   \n",
       "4    Product Owner в Премиальном сегменте СберПервый   \n",
       "\n",
       "                                         description  \\\n",
       "0  <p>Импортозамещение и КИБ являются одним из кл...   \n",
       "1  <p><strong>Описание направления:</strong></p> ...   \n",
       "2  <p><strong>Чем предстоит заниматься:</strong><...   \n",
       "3  <p>Мы – активная и амбициозная команда в СберД...   \n",
       "4  <p>Мы ищем талантливого и опытного Product Own...   \n",
       "\n",
       "                                          key_skills  \n",
       "0  [{'name': 'Деловая коммуникация'}, {'name': 'О...  \n",
       "1  [{'name': 'Управление проектами'}, {'name': 'А...  \n",
       "2                 [{'name': 'Управление проектами'}]  \n",
       "3                                                 []  \n",
       "4                                                 []  "
      ]
     },
     "execution_count": 25,
     "metadata": {},
     "output_type": "execute_result"
    }
   ],
   "source": [
    "data = df_data[['published_at', 'name', 'description', 'key_skills']]\n",
    "data.head()"
   ]
  },
  {
   "cell_type": "code",
   "execution_count": 26,
   "id": "8a629b9b",
   "metadata": {},
   "outputs": [
    {
     "data": {
      "text/html": [
       "<div>\n",
       "<style scoped>\n",
       "    .dataframe tbody tr th:only-of-type {\n",
       "        vertical-align: middle;\n",
       "    }\n",
       "\n",
       "    .dataframe tbody tr th {\n",
       "        vertical-align: top;\n",
       "    }\n",
       "\n",
       "    .dataframe thead th {\n",
       "        text-align: right;\n",
       "    }\n",
       "</style>\n",
       "<table border=\"1\" class=\"dataframe\">\n",
       "  <thead>\n",
       "    <tr style=\"text-align: right;\">\n",
       "      <th></th>\n",
       "      <th>published_at</th>\n",
       "      <th>name</th>\n",
       "      <th>description</th>\n",
       "      <th>key_skills</th>\n",
       "    </tr>\n",
       "  </thead>\n",
       "  <tbody>\n",
       "    <tr>\n",
       "      <th>0</th>\n",
       "      <td>2023-03-15 10:26:21</td>\n",
       "      <td>Project Manager в команду Импортозамещение Циф...</td>\n",
       "      <td>&lt;p&gt;Импортозамещение и КИБ являются одним из кл...</td>\n",
       "      <td>[{'name': 'Деловая коммуникация'}, {'name': 'О...</td>\n",
       "    </tr>\n",
       "    <tr>\n",
       "      <th>1</th>\n",
       "      <td>2023-03-14 10:39:55</td>\n",
       "      <td>Project Manager в команду Проектного офиса Циф...</td>\n",
       "      <td>&lt;p&gt;&lt;strong&gt;Описание направления:&lt;/strong&gt;&lt;/p&gt; ...</td>\n",
       "      <td>[{'name': 'Управление проектами'}, {'name': 'А...</td>\n",
       "    </tr>\n",
       "    <tr>\n",
       "      <th>2</th>\n",
       "      <td>2023-03-15 10:25:03</td>\n",
       "      <td>Руководитель проектов на интеграционные програ...</td>\n",
       "      <td>&lt;p&gt;&lt;strong&gt;Чем предстоит заниматься:&lt;/strong&gt;&lt;...</td>\n",
       "      <td>[{'name': 'Управление проектами'}]</td>\n",
       "    </tr>\n",
       "    <tr>\n",
       "      <th>3</th>\n",
       "      <td>2023-03-15 12:28:42</td>\n",
       "      <td>Менеджер проектов в команду Салют Экраны B2B2C...</td>\n",
       "      <td>&lt;p&gt;Мы – активная и амбициозная команда в СберД...</td>\n",
       "      <td>[]</td>\n",
       "    </tr>\n",
       "    <tr>\n",
       "      <th>4</th>\n",
       "      <td>2023-03-28 19:44:40</td>\n",
       "      <td>Product Owner в Премиальном сегменте СберПервый</td>\n",
       "      <td>&lt;p&gt;Мы ищем талантливого и опытного Product Own...</td>\n",
       "      <td>[]</td>\n",
       "    </tr>\n",
       "  </tbody>\n",
       "</table>\n",
       "</div>"
      ],
      "text/plain": [
       "         published_at                                               name  \\\n",
       "0 2023-03-15 10:26:21  Project Manager в команду Импортозамещение Циф...   \n",
       "1 2023-03-14 10:39:55  Project Manager в команду Проектного офиса Циф...   \n",
       "2 2023-03-15 10:25:03  Руководитель проектов на интеграционные програ...   \n",
       "3 2023-03-15 12:28:42  Менеджер проектов в команду Салют Экраны B2B2C...   \n",
       "4 2023-03-28 19:44:40    Product Owner в Премиальном сегменте СберПервый   \n",
       "\n",
       "                                         description  \\\n",
       "0  <p>Импортозамещение и КИБ являются одним из кл...   \n",
       "1  <p><strong>Описание направления:</strong></p> ...   \n",
       "2  <p><strong>Чем предстоит заниматься:</strong><...   \n",
       "3  <p>Мы – активная и амбициозная команда в СберД...   \n",
       "4  <p>Мы ищем талантливого и опытного Product Own...   \n",
       "\n",
       "                                          key_skills  \n",
       "0  [{'name': 'Деловая коммуникация'}, {'name': 'О...  \n",
       "1  [{'name': 'Управление проектами'}, {'name': 'А...  \n",
       "2                 [{'name': 'Управление проектами'}]  \n",
       "3                                                 []  \n",
       "4                                                 []  "
      ]
     },
     "execution_count": 26,
     "metadata": {},
     "output_type": "execute_result"
    }
   ],
   "source": [
    "data['published_at'] = data['published_at'].str.replace(r'+0300', '', regex=False)\n",
    "data['published_at'] = pd.to_datetime(data['published_at'])\n",
    "data.head()"
   ]
  },
  {
   "cell_type": "code",
   "execution_count": 37,
   "id": "feda47fc",
   "metadata": {},
   "outputs": [
    {
     "data": {
      "text/html": [
       "<div>\n",
       "<style scoped>\n",
       "    .dataframe tbody tr th:only-of-type {\n",
       "        vertical-align: middle;\n",
       "    }\n",
       "\n",
       "    .dataframe tbody tr th {\n",
       "        vertical-align: top;\n",
       "    }\n",
       "\n",
       "    .dataframe thead th {\n",
       "        text-align: right;\n",
       "    }\n",
       "</style>\n",
       "<table border=\"1\" class=\"dataframe\">\n",
       "  <thead>\n",
       "    <tr style=\"text-align: right;\">\n",
       "      <th></th>\n",
       "      <th>published_at</th>\n",
       "      <th>name</th>\n",
       "      <th>description</th>\n",
       "      <th>key_skills</th>\n",
       "      <th>published_date</th>\n",
       "      <th>weekday</th>\n",
       "    </tr>\n",
       "  </thead>\n",
       "  <tbody>\n",
       "    <tr>\n",
       "      <th>0</th>\n",
       "      <td>2023-03-15 10:26:21</td>\n",
       "      <td>Project Manager в команду Импортозамещение Циф...</td>\n",
       "      <td>pИмпортозамещение и КИБ являются одним из ключ...</td>\n",
       "      <td>Деловая коммуникация,  Организаторские навыки...</td>\n",
       "      <td>2023-03-15</td>\n",
       "      <td>Wednesday</td>\n",
       "    </tr>\n",
       "    <tr>\n",
       "      <th>1</th>\n",
       "      <td>2023-03-14 10:39:55</td>\n",
       "      <td>Project Manager в команду Проектного офиса Циф...</td>\n",
       "      <td>pstrongОписание направленияstrongp ul liВнедре...</td>\n",
       "      <td>Управление проектами,  Английский язык,  Atla...</td>\n",
       "      <td>2023-03-14</td>\n",
       "      <td>Tuesday</td>\n",
       "    </tr>\n",
       "    <tr>\n",
       "      <th>2</th>\n",
       "      <td>2023-03-15 10:25:03</td>\n",
       "      <td>Руководитель проектов на интеграционные програ...</td>\n",
       "      <td>pstrongЧем предстоит заниматьсяstrongp ul liВе...</td>\n",
       "      <td>Управление проектами</td>\n",
       "      <td>2023-03-15</td>\n",
       "      <td>Wednesday</td>\n",
       "    </tr>\n",
       "    <tr>\n",
       "      <th>3</th>\n",
       "      <td>2023-03-15 12:28:42</td>\n",
       "      <td>Менеджер проектов в команду Салют Экраны B2B2C...</td>\n",
       "      <td>pМы  активная и амбициозная команда в СберДева...</td>\n",
       "      <td></td>\n",
       "      <td>2023-03-15</td>\n",
       "      <td>Wednesday</td>\n",
       "    </tr>\n",
       "    <tr>\n",
       "      <th>4</th>\n",
       "      <td>2023-03-28 19:44:40</td>\n",
       "      <td>Product Owner в Премиальном сегменте СберПервый</td>\n",
       "      <td>pМы ищем талантливого и опытного Product Owner...</td>\n",
       "      <td></td>\n",
       "      <td>2023-03-28</td>\n",
       "      <td>Tuesday</td>\n",
       "    </tr>\n",
       "  </tbody>\n",
       "</table>\n",
       "</div>"
      ],
      "text/plain": [
       "         published_at                                               name  \\\n",
       "0 2023-03-15 10:26:21  Project Manager в команду Импортозамещение Циф...   \n",
       "1 2023-03-14 10:39:55  Project Manager в команду Проектного офиса Циф...   \n",
       "2 2023-03-15 10:25:03  Руководитель проектов на интеграционные програ...   \n",
       "3 2023-03-15 12:28:42  Менеджер проектов в команду Салют Экраны B2B2C...   \n",
       "4 2023-03-28 19:44:40    Product Owner в Премиальном сегменте СберПервый   \n",
       "\n",
       "                                         description  \\\n",
       "0  pИмпортозамещение и КИБ являются одним из ключ...   \n",
       "1  pstrongОписание направленияstrongp ul liВнедре...   \n",
       "2  pstrongЧем предстоит заниматьсяstrongp ul liВе...   \n",
       "3  pМы  активная и амбициозная команда в СберДева...   \n",
       "4  pМы ищем талантливого и опытного Product Owner...   \n",
       "\n",
       "                                          key_skills published_date    weekday  \n",
       "0   Деловая коммуникация,  Организаторские навыки...     2023-03-15  Wednesday  \n",
       "1   Управление проектами,  Английский язык,  Atla...     2023-03-14    Tuesday  \n",
       "2                               Управление проектами     2023-03-15  Wednesday  \n",
       "3                                                        2023-03-15  Wednesday  \n",
       "4                                                        2023-03-28    Tuesday  "
      ]
     },
     "execution_count": 37,
     "metadata": {},
     "output_type": "execute_result"
    }
   ],
   "source": [
    "data['description'] = data['description'].replace('[^а-яА-Яa-zA-Z0-9 ]', '', regex=True)\n",
    "data['key_skills'] = data['key_skills'].astype(str).replace('[^а-яА-Яa-zA-Z0-9, ]', '', regex=True)\n",
    "data['key_skills'] = data['key_skills'].replace('name', '', regex=True)\n",
    "data.head()"
   ]
  },
  {
   "cell_type": "code",
   "execution_count": 28,
   "id": "d186ed19",
   "metadata": {},
   "outputs": [
    {
     "data": {
      "text/html": [
       "<div>\n",
       "<style scoped>\n",
       "    .dataframe tbody tr th:only-of-type {\n",
       "        vertical-align: middle;\n",
       "    }\n",
       "\n",
       "    .dataframe tbody tr th {\n",
       "        vertical-align: top;\n",
       "    }\n",
       "\n",
       "    .dataframe thead th {\n",
       "        text-align: right;\n",
       "    }\n",
       "</style>\n",
       "<table border=\"1\" class=\"dataframe\">\n",
       "  <thead>\n",
       "    <tr style=\"text-align: right;\">\n",
       "      <th></th>\n",
       "      <th>published_at</th>\n",
       "      <th>name</th>\n",
       "      <th>description</th>\n",
       "      <th>key_skills</th>\n",
       "      <th>published_date</th>\n",
       "    </tr>\n",
       "  </thead>\n",
       "  <tbody>\n",
       "    <tr>\n",
       "      <th>0</th>\n",
       "      <td>2023-03-15 10:26:21</td>\n",
       "      <td>Project Manager в команду Импортозамещение Циф...</td>\n",
       "      <td>pИмпортозамещение и КИБ являются одним из ключ...</td>\n",
       "      <td>name Деловая коммуникация, name Организаторски...</td>\n",
       "      <td>2023-03-15</td>\n",
       "    </tr>\n",
       "    <tr>\n",
       "      <th>1</th>\n",
       "      <td>2023-03-14 10:39:55</td>\n",
       "      <td>Project Manager в команду Проектного офиса Циф...</td>\n",
       "      <td>pstrongОписание направленияstrongp ul liВнедре...</td>\n",
       "      <td>name Управление проектами, name Английский язы...</td>\n",
       "      <td>2023-03-14</td>\n",
       "    </tr>\n",
       "    <tr>\n",
       "      <th>2</th>\n",
       "      <td>2023-03-15 10:25:03</td>\n",
       "      <td>Руководитель проектов на интеграционные програ...</td>\n",
       "      <td>pstrongЧем предстоит заниматьсяstrongp ul liВе...</td>\n",
       "      <td>name Управление проектами</td>\n",
       "      <td>2023-03-15</td>\n",
       "    </tr>\n",
       "    <tr>\n",
       "      <th>3</th>\n",
       "      <td>2023-03-15 12:28:42</td>\n",
       "      <td>Менеджер проектов в команду Салют Экраны B2B2C...</td>\n",
       "      <td>pМы  активная и амбициозная команда в СберДева...</td>\n",
       "      <td></td>\n",
       "      <td>2023-03-15</td>\n",
       "    </tr>\n",
       "    <tr>\n",
       "      <th>4</th>\n",
       "      <td>2023-03-28 19:44:40</td>\n",
       "      <td>Product Owner в Премиальном сегменте СберПервый</td>\n",
       "      <td>pМы ищем талантливого и опытного Product Owner...</td>\n",
       "      <td></td>\n",
       "      <td>2023-03-28</td>\n",
       "    </tr>\n",
       "  </tbody>\n",
       "</table>\n",
       "</div>"
      ],
      "text/plain": [
       "         published_at                                               name  \\\n",
       "0 2023-03-15 10:26:21  Project Manager в команду Импортозамещение Циф...   \n",
       "1 2023-03-14 10:39:55  Project Manager в команду Проектного офиса Циф...   \n",
       "2 2023-03-15 10:25:03  Руководитель проектов на интеграционные програ...   \n",
       "3 2023-03-15 12:28:42  Менеджер проектов в команду Салют Экраны B2B2C...   \n",
       "4 2023-03-28 19:44:40    Product Owner в Премиальном сегменте СберПервый   \n",
       "\n",
       "                                         description  \\\n",
       "0  pИмпортозамещение и КИБ являются одним из ключ...   \n",
       "1  pstrongОписание направленияstrongp ul liВнедре...   \n",
       "2  pstrongЧем предстоит заниматьсяstrongp ul liВе...   \n",
       "3  pМы  активная и амбициозная команда в СберДева...   \n",
       "4  pМы ищем талантливого и опытного Product Owner...   \n",
       "\n",
       "                                          key_skills published_date  \n",
       "0  name Деловая коммуникация, name Организаторски...     2023-03-15  \n",
       "1  name Управление проектами, name Английский язы...     2023-03-14  \n",
       "2                          name Управление проектами     2023-03-15  \n",
       "3                                                        2023-03-15  \n",
       "4                                                        2023-03-28  "
      ]
     },
     "execution_count": 28,
     "metadata": {},
     "output_type": "execute_result"
    }
   ],
   "source": [
    "data['published_date'] = data['published_at'].dt.date\n",
    "data.head()"
   ]
  },
  {
   "cell_type": "code",
   "execution_count": 29,
   "id": "c0249c29",
   "metadata": {},
   "outputs": [
    {
     "data": {
      "text/html": [
       "<div>\n",
       "<style scoped>\n",
       "    .dataframe tbody tr th:only-of-type {\n",
       "        vertical-align: middle;\n",
       "    }\n",
       "\n",
       "    .dataframe tbody tr th {\n",
       "        vertical-align: top;\n",
       "    }\n",
       "\n",
       "    .dataframe thead th {\n",
       "        text-align: right;\n",
       "    }\n",
       "</style>\n",
       "<table border=\"1\" class=\"dataframe\">\n",
       "  <thead>\n",
       "    <tr style=\"text-align: right;\">\n",
       "      <th></th>\n",
       "      <th>published_date</th>\n",
       "    </tr>\n",
       "  </thead>\n",
       "  <tbody>\n",
       "    <tr>\n",
       "      <th>2023-03-28</th>\n",
       "      <td>1469</td>\n",
       "    </tr>\n",
       "    <tr>\n",
       "      <th>2023-03-22</th>\n",
       "      <td>358</td>\n",
       "    </tr>\n",
       "    <tr>\n",
       "      <th>2023-03-27</th>\n",
       "      <td>346</td>\n",
       "    </tr>\n",
       "    <tr>\n",
       "      <th>2023-03-24</th>\n",
       "      <td>297</td>\n",
       "    </tr>\n",
       "    <tr>\n",
       "      <th>2023-03-23</th>\n",
       "      <td>280</td>\n",
       "    </tr>\n",
       "  </tbody>\n",
       "</table>\n",
       "</div>"
      ],
      "text/plain": [
       "            published_date\n",
       "2023-03-28            1469\n",
       "2023-03-22             358\n",
       "2023-03-27             346\n",
       "2023-03-24             297\n",
       "2023-03-23             280"
      ]
     },
     "execution_count": 29,
     "metadata": {},
     "output_type": "execute_result"
    }
   ],
   "source": [
    "to_plot = pd.DataFrame(data['published_date'].value_counts())\n",
    "to_plot.head()"
   ]
  },
  {
   "cell_type": "code",
   "execution_count": 30,
   "id": "8f632f7e",
   "metadata": {},
   "outputs": [
    {
     "data": {
      "image/png": "[encoded data removed]",
      "text/plain": [
       "<Figure size 640x480 with 1 Axes>"
      ]
     },
     "metadata": {},
     "output_type": "display_data"
    }
   ],
   "source": [
    "#Переведите даты публикаций в формат datetime и постройте график опубликованных вакансий по датам\n",
    "import matplotlib.pyplot as plt\n",
    "\n",
    "plt.bar(to_plot.index, to_plot['published_date'], color='pink', align='center')\n",
    "plt.xticks(rotation = 'vertical')\n",
    "plt.show()"
   ]
  },
  {
   "cell_type": "code",
   "execution_count": 31,
   "id": "fc6285d7",
   "metadata": {},
   "outputs": [],
   "source": [
    "def get_weekday(x):\n",
    "    if x.weekday() == 0:\n",
    "        return 'Monday'\n",
    "    elif x.weekday() == 1:\n",
    "        return 'Tuesday'\n",
    "    elif x.weekday() == 2:\n",
    "        return 'Wednesday'\n",
    "    elif x.weekday() == 3:\n",
    "        return 'Thursday'\n",
    "    elif x.weekday() == 4:\n",
    "        return 'Friday'\n",
    "    elif x.weekday() == 5:\n",
    "        return 'Saturday'\n",
    "    elif x.weekday() == 6:\n",
    "        return 'Sunday'"
   ]
  },
  {
   "cell_type": "code",
   "execution_count": 32,
   "id": "dfa24d69",
   "metadata": {},
   "outputs": [
    {
     "data": {
      "text/html": [
       "<div>\n",
       "<style scoped>\n",
       "    .dataframe tbody tr th:only-of-type {\n",
       "        vertical-align: middle;\n",
       "    }\n",
       "\n",
       "    .dataframe tbody tr th {\n",
       "        vertical-align: top;\n",
       "    }\n",
       "\n",
       "    .dataframe thead th {\n",
       "        text-align: right;\n",
       "    }\n",
       "</style>\n",
       "<table border=\"1\" class=\"dataframe\">\n",
       "  <thead>\n",
       "    <tr style=\"text-align: right;\">\n",
       "      <th></th>\n",
       "      <th>published_at</th>\n",
       "      <th>name</th>\n",
       "      <th>description</th>\n",
       "      <th>key_skills</th>\n",
       "      <th>published_date</th>\n",
       "      <th>weekday</th>\n",
       "    </tr>\n",
       "  </thead>\n",
       "  <tbody>\n",
       "    <tr>\n",
       "      <th>0</th>\n",
       "      <td>2023-03-15 10:26:21</td>\n",
       "      <td>Project Manager в команду Импортозамещение Циф...</td>\n",
       "      <td>pИмпортозамещение и КИБ являются одним из ключ...</td>\n",
       "      <td>name Деловая коммуникация, name Организаторски...</td>\n",
       "      <td>2023-03-15</td>\n",
       "      <td>Wednesday</td>\n",
       "    </tr>\n",
       "    <tr>\n",
       "      <th>1</th>\n",
       "      <td>2023-03-14 10:39:55</td>\n",
       "      <td>Project Manager в команду Проектного офиса Циф...</td>\n",
       "      <td>pstrongОписание направленияstrongp ul liВнедре...</td>\n",
       "      <td>name Управление проектами, name Английский язы...</td>\n",
       "      <td>2023-03-14</td>\n",
       "      <td>Tuesday</td>\n",
       "    </tr>\n",
       "    <tr>\n",
       "      <th>2</th>\n",
       "      <td>2023-03-15 10:25:03</td>\n",
       "      <td>Руководитель проектов на интеграционные програ...</td>\n",
       "      <td>pstrongЧем предстоит заниматьсяstrongp ul liВе...</td>\n",
       "      <td>name Управление проектами</td>\n",
       "      <td>2023-03-15</td>\n",
       "      <td>Wednesday</td>\n",
       "    </tr>\n",
       "    <tr>\n",
       "      <th>3</th>\n",
       "      <td>2023-03-15 12:28:42</td>\n",
       "      <td>Менеджер проектов в команду Салют Экраны B2B2C...</td>\n",
       "      <td>pМы  активная и амбициозная команда в СберДева...</td>\n",
       "      <td></td>\n",
       "      <td>2023-03-15</td>\n",
       "      <td>Wednesday</td>\n",
       "    </tr>\n",
       "    <tr>\n",
       "      <th>4</th>\n",
       "      <td>2023-03-28 19:44:40</td>\n",
       "      <td>Product Owner в Премиальном сегменте СберПервый</td>\n",
       "      <td>pМы ищем талантливого и опытного Product Owner...</td>\n",
       "      <td></td>\n",
       "      <td>2023-03-28</td>\n",
       "      <td>Tuesday</td>\n",
       "    </tr>\n",
       "  </tbody>\n",
       "</table>\n",
       "</div>"
      ],
      "text/plain": [
       "         published_at                                               name  \\\n",
       "0 2023-03-15 10:26:21  Project Manager в команду Импортозамещение Циф...   \n",
       "1 2023-03-14 10:39:55  Project Manager в команду Проектного офиса Циф...   \n",
       "2 2023-03-15 10:25:03  Руководитель проектов на интеграционные програ...   \n",
       "3 2023-03-15 12:28:42  Менеджер проектов в команду Салют Экраны B2B2C...   \n",
       "4 2023-03-28 19:44:40    Product Owner в Премиальном сегменте СберПервый   \n",
       "\n",
       "                                         description  \\\n",
       "0  pИмпортозамещение и КИБ являются одним из ключ...   \n",
       "1  pstrongОписание направленияstrongp ul liВнедре...   \n",
       "2  pstrongЧем предстоит заниматьсяstrongp ul liВе...   \n",
       "3  pМы  активная и амбициозная команда в СберДева...   \n",
       "4  pМы ищем талантливого и опытного Product Owner...   \n",
       "\n",
       "                                          key_skills published_date    weekday  \n",
       "0  name Деловая коммуникация, name Организаторски...     2023-03-15  Wednesday  \n",
       "1  name Управление проектами, name Английский язы...     2023-03-14    Tuesday  \n",
       "2                          name Управление проектами     2023-03-15  Wednesday  \n",
       "3                                                        2023-03-15  Wednesday  \n",
       "4                                                        2023-03-28    Tuesday  "
      ]
     },
     "execution_count": 32,
     "metadata": {},
     "output_type": "execute_result"
    }
   ],
   "source": [
    "data['weekday'] = data['published_date'].apply(lambda x: get_weekday(x))\n",
    "data.head()"
   ]
  },
  {
   "cell_type": "code",
   "execution_count": 33,
   "id": "e61ed357",
   "metadata": {},
   "outputs": [
    {
     "data": {
      "text/plain": [
       "Tuesday      2233\n",
       "Monday       1197\n",
       "Friday        844\n",
       "Thursday      797\n",
       "Wednesday     778\n",
       "Sunday        455\n",
       "Saturday      248\n",
       "Name: weekday, dtype: int64"
      ]
     },
     "execution_count": 33,
     "metadata": {},
     "output_type": "execute_result"
    }
   ],
   "source": [
    "#Переведите даты в дни недели, и определите день недели, в который больше всего публикуют вакансий\n",
    "data['weekday'].value_counts()"
   ]
  },
  {
   "cell_type": "code",
   "execution_count": 34,
   "id": "3f7eca7f",
   "metadata": {},
   "outputs": [],
   "source": [
    "#Найдите вакансии с использованием python, которые вам интересны\n",
    "s = 'аналитик'.lower()\n",
    "key_skills = 'python'"
   ]
  },
  {
   "cell_type": "code",
   "execution_count": 38,
   "id": "6d4c044f",
   "metadata": {},
   "outputs": [],
   "source": [
    "t1 = data.name.str.lower().str.contains(s)\n",
    "t2 = data.key_skills.str.lower().str.contains(key_skills)\n",
    "python_vac = data[t1 & t2].reset_index(drop=True)"
   ]
  },
  {
   "cell_type": "markdown",
   "id": "686e80b5",
   "metadata": {},
   "source": [
    "Определите по полю с ключевыми навыками, какие навыки больше всего востребованы для найденных вакансий\n",
    "Постройте график наиболее востребованных навыков"
   ]
  },
  {
   "cell_type": "code",
   "execution_count": 39,
   "id": "daa8c20c",
   "metadata": {},
   "outputs": [
    {
     "data": {
      "text/plain": [
       "0                                          SQL,  Python\n",
       "1                                       Python,  MS SQL\n",
       "2      Статистический анализ,  Qlik Sense,  Математи...\n",
       "3              SQL,  Python,  PostgreSQL,  MS SQL,  Git\n",
       "4                                          SQL,  Python\n",
       "5                          Python,  SQL,  Анализ данных\n",
       "6      MS SQL,  PostgreSQL,  ClickHouse,  Metabase, ...\n",
       "7      Математический анализ,  MS SQL,  Python,  AB ...\n",
       "8      Python,  SQL,  Data Mining,  Oracle BI,  Анал...\n",
       "9      Excel,  Python,  Hadoop,  Hive,  Impala,  Spa...\n",
       "10     ETL,  PostgreSQL,  DWH,  Базы данных,  Анализ...\n",
       "Name: key_skills, dtype: object"
      ]
     },
     "execution_count": 39,
     "metadata": {},
     "output_type": "execute_result"
    }
   ],
   "source": [
    "python_vac['key_skills']"
   ]
  },
  {
   "cell_type": "code",
   "execution_count": 42,
   "id": "5cbbedcc",
   "metadata": {},
   "outputs": [
    {
     "name": "stdout",
     "output_type": "stream",
     "text": [
      "Counter({'  Python': 8, '  SQL': 5, '  Анализ данных': 4, ' SQL': 3, ' Python': 3, '  MS SQL': 3, '  PostgreSQL': 3, '  Математическая статистика': 2, '  AB тесты': 2, '  Hadoop': 2, '  Spark': 2, ' Статистический анализ': 1, '  Qlik Sense': 1, '  Аналитическое мышление': 1, '  Английский язык': 1, '  Git': 1, ' MS SQL': 1, '  ClickHouse': 1, '  Metabase': 1, '  Tableau': 1, ' Математический анализ': 1, '  Data Mining': 1, '  Oracle BI': 1, ' Excel': 1, '  Hive': 1, '  Impala': 1, '  Сбер': 1, '  Data Analysis': 1, ' ETL': 1, '  DWH': 1, '  Базы данных': 1, '  Системный анализ': 1, '  SCALA': 1, '  Big Data': 1})\n"
     ]
    }
   ],
   "source": [
    "import collections\n",
    "c = collections.Counter()\n",
    "for i in range(len(python_vac['key_skills'])):\n",
    "    for j in str(python_vac['key_skills'].iloc[i]).split(','):\n",
    "        c[j] += 1\n",
    "print(c)     "
   ]
  },
  {
   "cell_type": "code",
   "execution_count": 43,
   "id": "77d56c2c",
   "metadata": {},
   "outputs": [
    {
     "data": {
      "text/html": [
       "<div>\n",
       "<style scoped>\n",
       "    .dataframe tbody tr th:only-of-type {\n",
       "        vertical-align: middle;\n",
       "    }\n",
       "\n",
       "    .dataframe tbody tr th {\n",
       "        vertical-align: top;\n",
       "    }\n",
       "\n",
       "    .dataframe thead th {\n",
       "        text-align: right;\n",
       "    }\n",
       "</style>\n",
       "<table border=\"1\" class=\"dataframe\">\n",
       "  <thead>\n",
       "    <tr style=\"text-align: right;\">\n",
       "      <th></th>\n",
       "      <th>cnt</th>\n",
       "    </tr>\n",
       "  </thead>\n",
       "  <tbody>\n",
       "    <tr>\n",
       "      <th>Python</th>\n",
       "      <td>8</td>\n",
       "    </tr>\n",
       "    <tr>\n",
       "      <th>SQL</th>\n",
       "      <td>5</td>\n",
       "    </tr>\n",
       "    <tr>\n",
       "      <th>Анализ данных</th>\n",
       "      <td>4</td>\n",
       "    </tr>\n",
       "    <tr>\n",
       "      <th>SQL</th>\n",
       "      <td>3</td>\n",
       "    </tr>\n",
       "    <tr>\n",
       "      <th>PostgreSQL</th>\n",
       "      <td>3</td>\n",
       "    </tr>\n",
       "  </tbody>\n",
       "</table>\n",
       "</div>"
      ],
      "text/plain": [
       "                 cnt\n",
       "  Python           8\n",
       "  SQL              5\n",
       "  Анализ данных    4\n",
       " SQL               3\n",
       "  PostgreSQL       3"
      ]
     },
     "execution_count": 43,
     "metadata": {},
     "output_type": "execute_result"
    }
   ],
   "source": [
    "skil = pd.DataFrame(c,index=['cnt']).transpose()\n",
    "skil = skil.sort_values(by = 'cnt', ascending = False)[0:5]\n",
    "skil"
   ]
  },
  {
   "cell_type": "code",
   "execution_count": 44,
   "id": "b14cc685",
   "metadata": {},
   "outputs": [
    {
     "data": {
      "image/png": "[encoded data removed]",
      "text/plain": [
       "<Figure size 640x480 with 1 Axes>"
      ]
     },
     "metadata": {},
     "output_type": "display_data"
    }
   ],
   "source": [
    "skil.nlargest(5, 'cnt').set_index(skil.index).plot(kind='barh');"
   ]
  },
  {
   "cell_type": "code",
   "execution_count": null,
   "id": "58e32643",
   "metadata": {},
   "outputs": [],
   "source": []
  }
 ],
 "metadata": {
  "kernelspec": {
   "display_name": "Python 3 (ipykernel)",
   "language": "python",
   "name": "python3"
  },
  "language_info": {
   "codemirror_mode": {
    "name": "ipython",
    "version": 3
   },
   "file_extension": ".py",
   "mimetype": "text/x-python",
   "name": "python",
   "nbconvert_exporter": "python",
   "pygments_lexer": "ipython3",
   "version": "3.10.9"
  }
 },
 "nbformat": 4,
 "nbformat_minor": 5
}
