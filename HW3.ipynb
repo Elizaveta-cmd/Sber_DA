{
 "cells": [
  {
   "cell_type": "markdown",
   "metadata": {},
   "source": [
    "<a target=\"_blank\" href=\"https://colab.research.google.com/github/da-python/new-modul-python/blob/main/Lesson3/hometask/SyntheticRubber.ipynb\">\n",
    "  <img src=\"https://colab.research.google.com/assets/colab-badge.svg\" alt=\"Open In Colab\"/>\n",
    "</a>"
   ]
  },
  {
   "cell_type": "code",
   "execution_count": null,
   "metadata": {},
   "outputs": [],
   "source": [
    "# !pip install yfinance"
   ]
  },
  {
   "cell_type": "code",
   "execution_count": 131,
   "metadata": {},
   "outputs": [],
   "source": [
    "import yfinance as yf\n",
    "import pandas as pd\n",
    "import requests"
   ]
  },
  {
   "cell_type": "code",
   "execution_count": 184,
   "metadata": {},
   "outputs": [
    {
     "name": "stdout",
     "output_type": "stream",
     "text": [
      "[*********************100%***********************]  1 of 1 completed\n",
      "[*********************100%***********************]  1 of 1 completed\n"
     ]
    }
   ],
   "source": [
    "crude_oil_ticker = \"CL=F\"\n",
    "exr_eurusd_ticker = \"EURUSD=X\"\n",
    "crude_oil = yf.download(crude_oil_ticker)\n",
    "exr = yf.download(exr_eurusd_ticker)"
   ]
  },
  {
   "cell_type": "markdown",
   "metadata": {},
   "source": [
    "# Задание 1.\n",
    "\n",
    "* Вы - менеджер по продажам в нефтехимической компании. Вы ведете несколько ключевых клиентов, которые закупают продукты вашей компании. Ваша компания запускает новый продукт - \"Синтетический каучук\" (СК), который по своим свойствам похож на тот, что уже есть на рынке. Ваши клиенты предпочитают формульный подход к ценообразованию. Вам нужно предложить клиентам формулу расчета цены на СК. В зависимости от объемов, которые покупают клиенты, им может быть предложена скидка.\n",
    "\n",
    "\n",
    "* СК производиться из нефти. Один из известных способов производства предполагает, что из 10 баррелей нефти сделают одну тонну СК, а затраты на производство в районе 400 евро."
   ]
  },
  {
   "cell_type": "code",
   "execution_count": 185,
   "metadata": {},
   "outputs": [],
   "source": [
    "# Затраты на производство\n",
    "PRODUCTION_COST = 400 # (EUR)\n",
    "\n",
    "# Расходы на логистику\n",
    "EU_LOGISTIC_COST_EUR = 30 # в Европу в евро\n",
    "CN_LOGISTIC_COST_USD = 130 # в Китай в долларах\n",
    "\n",
    "# * Справочная информация по клиентам(объемы, локации, комментарии) \n",
    "customers = {\n",
    "    'Сonty':{\n",
    "        'location':'EU',\n",
    "        'volumes':200,\n",
    "        'comment':'moving_average'\n",
    "    },\n",
    "    \n",
    "    'Triangle':{\n",
    "        'location':'CN',\n",
    "        'volumes': 30,\n",
    "        'comment': 'monthly'\n",
    "    },\n",
    "    'Stone':{\n",
    "        'location':'EU',\n",
    "        'volumes': 150,\n",
    "        'comment': 'moving_average'\n",
    "    },\n",
    "    'Ant':{\n",
    "        'location':'EU',\n",
    "        'volumes': 70,\n",
    "        'comment': 'monthly'\n",
    "    }\n",
    "}\n",
    "# Скидки\n",
    "discounts = {'99': 0.01, # до 100 тонн 1%\n",
    "             '299': 0.05, #  до 300 тонн 5%\n",
    "             '300': 0.1}   # больше 300 тонн 10%\n"
   ]
  },
  {
   "cell_type": "markdown",
   "metadata": {},
   "source": [
    "### Что нужно сделать?\n",
    "\n",
    "1. Определить базовую формулу цены на заводе. То есть как бы выглядела цена на исторических данных. \n",
    "* Важно, чтобы цена покрывала расходы на производство и при этом была в рынке, то есть на уровне натурального каучука или с небольшим дисконтом, котировки на который можно взять с сайта http://www3.lgm.gov.my/mre/MonthlyPrices.aspx (в центах за килограм). Можно перевести в доллары за тонну.\n",
    "2. Отобразить на графике.\n",
    "3. Сделать расчет возможной цены по формуле для каждого из клиентов на условиях DDP (цена с доставкой). Записать все в один эксель файл, на разных листах. Каждый лист - название клиента.\n",
    "4. Предложить формулу цены каждому из клиентов на условиях DDP (цена с доставкой).\n",
    "- Создать директорию «для клиентов» и в ней сложить  файлы с расчетами.\n",
    "- Каждый клиент - отдельный файл (любой из docx, xlsx, pptx, pdf)  с именем клиента… \n",
    "\n"
   ]
  },
  {
   "cell_type": "code",
   "execution_count": 186,
   "metadata": {},
   "outputs": [
    {
     "data": {
      "text/plain": [
       "63.74706088871404"
      ]
     },
     "execution_count": 186,
     "metadata": {},
     "output_type": "execute_result"
    }
   ],
   "source": [
    "data.Close.mean()"
   ]
  },
  {
   "cell_type": "code",
   "execution_count": 187,
   "metadata": {},
   "outputs": [
    {
     "data": {
      "text/plain": [
       "4063.7470608887143"
      ]
     },
     "execution_count": 187,
     "metadata": {},
     "output_type": "execute_result"
    }
   ],
   "source": [
    "#Определить базовую формулу цены на заводе. То есть как бы выглядела цена на исторических данных.\n",
    "# базовая цена = средняя цена закрытия нефти * 10 баррелей нефти на одну тонну СК + затраты на производство\n",
    "ck_price_base = 10 * PRODUCTION_COST + data.Close.mean()\n",
    "ck_price_base"
   ]
  },
  {
   "cell_type": "code",
   "execution_count": 188,
   "metadata": {},
   "outputs": [
    {
     "data": {
      "text/html": [
       "<div>\n",
       "<style scoped>\n",
       "    .dataframe tbody tr th:only-of-type {\n",
       "        vertical-align: middle;\n",
       "    }\n",
       "\n",
       "    .dataframe tbody tr th {\n",
       "        vertical-align: top;\n",
       "    }\n",
       "\n",
       "    .dataframe thead th {\n",
       "        text-align: right;\n",
       "    }\n",
       "</style>\n",
       "<table border=\"1\" class=\"dataframe\">\n",
       "  <thead>\n",
       "    <tr style=\"text-align: right;\">\n",
       "      <th></th>\n",
       "      <th>date</th>\n",
       "      <th>grade</th>\n",
       "      <th>masa</th>\n",
       "      <th>rm</th>\n",
       "      <th>us</th>\n",
       "      <th>tone</th>\n",
       "    </tr>\n",
       "  </thead>\n",
       "  <tbody>\n",
       "    <tr>\n",
       "      <th>156</th>\n",
       "      <td>2023-03-01</td>\n",
       "      <td>SMR 5</td>\n",
       "      <td>Noon</td>\n",
       "      <td>635.50</td>\n",
       "      <td>143.90</td>\n",
       "      <td>Slightly steadier</td>\n",
       "    </tr>\n",
       "    <tr>\n",
       "      <th>157</th>\n",
       "      <td>2023-03-01</td>\n",
       "      <td>SMR GP</td>\n",
       "      <td>Noon</td>\n",
       "      <td>632.50</td>\n",
       "      <td>143.20</td>\n",
       "      <td>Slightly steadier</td>\n",
       "    </tr>\n",
       "    <tr>\n",
       "      <th>158</th>\n",
       "      <td>2023-03-01</td>\n",
       "      <td>SMR 10</td>\n",
       "      <td>Noon</td>\n",
       "      <td>625.50</td>\n",
       "      <td>141.60</td>\n",
       "      <td>Slightly steadier</td>\n",
       "    </tr>\n",
       "    <tr>\n",
       "      <th>159</th>\n",
       "      <td>2023-03-01</td>\n",
       "      <td>SMR 20</td>\n",
       "      <td>Noon</td>\n",
       "      <td>623.50</td>\n",
       "      <td>141.15</td>\n",
       "      <td>Slightly steadier</td>\n",
       "    </tr>\n",
       "    <tr>\n",
       "      <th>160</th>\n",
       "      <td>2023-03-01</td>\n",
       "      <td>Latex in Bulk</td>\n",
       "      <td>Noon</td>\n",
       "      <td>540.00</td>\n",
       "      <td>540.00</td>\n",
       "      <td>Slightly steadier</td>\n",
       "    </tr>\n",
       "  </tbody>\n",
       "</table>\n",
       "</div>"
      ],
      "text/plain": [
       "           date          grade  masa      rm      us               tone\n",
       "156  2023-03-01          SMR 5  Noon  635.50  143.90  Slightly steadier\n",
       "157  2023-03-01         SMR GP  Noon  632.50  143.20  Slightly steadier\n",
       "158  2023-03-01         SMR 10  Noon  625.50  141.60  Slightly steadier\n",
       "159  2023-03-01         SMR 20  Noon  623.50  141.15  Slightly steadier\n",
       "160  2023-03-01  Latex in Bulk  Noon  540.00  540.00  Slightly steadier"
      ]
     },
     "execution_count": 188,
     "metadata": {},
     "output_type": "execute_result"
    }
   ],
   "source": [
    "# Важно, чтобы цена покрывала расходы на производство и при этом была в рынке, то есть на уровне натурального каучука \n",
    "#или с небольшим дисконтом, котировки на который можно взять с сайта http://www3.lgm.gov.my/mre/MonthlyPrices.aspx\n",
    "df = pd.DataFrame()\n",
    "for i in range(1, 16):\n",
    "    if i < 13:\n",
    "        year = '2022'\n",
    "        url = f\"https://www.lgm.gov.my/webv2api/api/rubberprice/month={i}&year={year}\"\n",
    "        res = requests.get(url)\n",
    "        rj = res.json()\n",
    "        df = pd.concat([df, pd.json_normalize(rj)], axis=0)\n",
    "    else:\n",
    "        i -= 12\n",
    "        year = '2023'\n",
    "        url = f\"https://www.lgm.gov.my/webv2api/api/rubberprice/month={i}&year={year}\"\n",
    "        res = requests.get(url)\n",
    "        rj = res.json()\n",
    "        df = pd.concat([df, pd.json_normalize(rj)], axis=0)\n",
    "df.tail()"
   ]
  },
  {
   "cell_type": "code",
   "execution_count": 203,
   "metadata": {},
   "outputs": [
    {
     "data": {
      "text/plain": [
       "date          object\n",
       "grade         object\n",
       "masa          object\n",
       "rm            object\n",
       "us           float64\n",
       "tone          object\n",
       "price_usd    float64\n",
       "dtype: object"
      ]
     },
     "execution_count": 203,
     "metadata": {},
     "output_type": "execute_result"
    }
   ],
   "source": [
    "df.dtypes"
   ]
  },
  {
   "cell_type": "code",
   "execution_count": 208,
   "metadata": {},
   "outputs": [
    {
     "data": {
      "text/html": [
       "<div>\n",
       "<style scoped>\n",
       "    .dataframe tbody tr th:only-of-type {\n",
       "        vertical-align: middle;\n",
       "    }\n",
       "\n",
       "    .dataframe tbody tr th {\n",
       "        vertical-align: top;\n",
       "    }\n",
       "\n",
       "    .dataframe thead th {\n",
       "        text-align: right;\n",
       "    }\n",
       "</style>\n",
       "<table border=\"1\" class=\"dataframe\">\n",
       "  <thead>\n",
       "    <tr style=\"text-align: right;\">\n",
       "      <th></th>\n",
       "      <th>date</th>\n",
       "      <th>grade</th>\n",
       "      <th>masa</th>\n",
       "      <th>rm</th>\n",
       "      <th>us</th>\n",
       "      <th>tone</th>\n",
       "      <th>price_usd</th>\n",
       "    </tr>\n",
       "  </thead>\n",
       "  <tbody>\n",
       "    <tr>\n",
       "      <th>156</th>\n",
       "      <td>2023-03-01</td>\n",
       "      <td>SMR 5</td>\n",
       "      <td>Noon</td>\n",
       "      <td>635.50</td>\n",
       "      <td>143.90</td>\n",
       "      <td>Slightly steadier</td>\n",
       "      <td>1439.0</td>\n",
       "    </tr>\n",
       "    <tr>\n",
       "      <th>157</th>\n",
       "      <td>2023-03-01</td>\n",
       "      <td>SMR GP</td>\n",
       "      <td>Noon</td>\n",
       "      <td>632.50</td>\n",
       "      <td>143.20</td>\n",
       "      <td>Slightly steadier</td>\n",
       "      <td>1432.0</td>\n",
       "    </tr>\n",
       "    <tr>\n",
       "      <th>158</th>\n",
       "      <td>2023-03-01</td>\n",
       "      <td>SMR 10</td>\n",
       "      <td>Noon</td>\n",
       "      <td>625.50</td>\n",
       "      <td>141.60</td>\n",
       "      <td>Slightly steadier</td>\n",
       "      <td>1416.0</td>\n",
       "    </tr>\n",
       "    <tr>\n",
       "      <th>159</th>\n",
       "      <td>2023-03-01</td>\n",
       "      <td>SMR 20</td>\n",
       "      <td>Noon</td>\n",
       "      <td>623.50</td>\n",
       "      <td>141.15</td>\n",
       "      <td>Slightly steadier</td>\n",
       "      <td>1411.5</td>\n",
       "    </tr>\n",
       "    <tr>\n",
       "      <th>160</th>\n",
       "      <td>2023-03-01</td>\n",
       "      <td>Latex in Bulk</td>\n",
       "      <td>Noon</td>\n",
       "      <td>540.00</td>\n",
       "      <td>540.00</td>\n",
       "      <td>Slightly steadier</td>\n",
       "      <td>5400.0</td>\n",
       "    </tr>\n",
       "  </tbody>\n",
       "</table>\n",
       "</div>"
      ],
      "text/plain": [
       "           date          grade  masa      rm      us               tone  \\\n",
       "156  2023-03-01          SMR 5  Noon  635.50  143.90  Slightly steadier   \n",
       "157  2023-03-01         SMR GP  Noon  632.50  143.20  Slightly steadier   \n",
       "158  2023-03-01         SMR 10  Noon  625.50  141.60  Slightly steadier   \n",
       "159  2023-03-01         SMR 20  Noon  623.50  141.15  Slightly steadier   \n",
       "160  2023-03-01  Latex in Bulk  Noon  540.00  540.00  Slightly steadier   \n",
       "\n",
       "     price_usd  \n",
       "156     1439.0  \n",
       "157     1432.0  \n",
       "158     1416.0  \n",
       "159     1411.5  \n",
       "160     5400.0  "
      ]
     },
     "execution_count": 208,
     "metadata": {},
     "output_type": "execute_result"
    }
   ],
   "source": [
    "#(в центах за килограмм). Можно перевести в доллары за тонну.\n",
    "df['us'] = df['us'].astype(float)\n",
    "df['price_usd'] = df['us'] * 1000 / 100\n",
    "df.tail()"
   ]
  },
  {
   "cell_type": "code",
   "execution_count": 191,
   "metadata": {},
   "outputs": [
    {
     "data": {
      "text/plain": [
       "array(['SMR CV', 'SMR L', 'SMR 5', 'SMR GP', 'SMR 10', 'SMR 20',\n",
       "       'Latex in Bulk'], dtype=object)"
      ]
     },
     "execution_count": 191,
     "metadata": {},
     "output_type": "execute_result"
    }
   ],
   "source": [
    "#опрееделяем среднюю цену для каждого grade - исхожу из предположения,что под grade понимается разный тип каучука\n",
    "df.grade.unique()"
   ]
  },
  {
   "cell_type": "code",
   "execution_count": 209,
   "metadata": {},
   "outputs": [
    {
     "data": {
      "text/html": [
       "<div>\n",
       "<style scoped>\n",
       "    .dataframe tbody tr th:only-of-type {\n",
       "        vertical-align: middle;\n",
       "    }\n",
       "\n",
       "    .dataframe tbody tr th {\n",
       "        vertical-align: top;\n",
       "    }\n",
       "\n",
       "    .dataframe thead th {\n",
       "        text-align: right;\n",
       "    }\n",
       "</style>\n",
       "<table border=\"1\" class=\"dataframe\">\n",
       "  <thead>\n",
       "    <tr style=\"text-align: right;\">\n",
       "      <th></th>\n",
       "      <th>us</th>\n",
       "      <th>price_usd</th>\n",
       "    </tr>\n",
       "    <tr>\n",
       "      <th>grade</th>\n",
       "      <th></th>\n",
       "      <th></th>\n",
       "    </tr>\n",
       "  </thead>\n",
       "  <tbody>\n",
       "    <tr>\n",
       "      <th>Latex in Bulk</th>\n",
       "      <td>558.256623</td>\n",
       "      <td>5582.566225</td>\n",
       "    </tr>\n",
       "    <tr>\n",
       "      <th>SMR 10</th>\n",
       "      <td>152.318212</td>\n",
       "      <td>1523.182119</td>\n",
       "    </tr>\n",
       "    <tr>\n",
       "      <th>SMR 20</th>\n",
       "      <td>151.858113</td>\n",
       "      <td>1518.581126</td>\n",
       "    </tr>\n",
       "    <tr>\n",
       "      <th>SMR 5</th>\n",
       "      <td>154.633113</td>\n",
       "      <td>1546.331126</td>\n",
       "    </tr>\n",
       "    <tr>\n",
       "      <th>SMR CV</th>\n",
       "      <td>220.601987</td>\n",
       "      <td>2206.019868</td>\n",
       "    </tr>\n",
       "    <tr>\n",
       "      <th>SMR GP</th>\n",
       "      <td>153.939073</td>\n",
       "      <td>1539.390728</td>\n",
       "    </tr>\n",
       "    <tr>\n",
       "      <th>SMR L</th>\n",
       "      <td>218.289901</td>\n",
       "      <td>2182.899007</td>\n",
       "    </tr>\n",
       "  </tbody>\n",
       "</table>\n",
       "</div>"
      ],
      "text/plain": [
       "                       us    price_usd\n",
       "grade                                 \n",
       "Latex in Bulk  558.256623  5582.566225\n",
       "SMR 10         152.318212  1523.182119\n",
       "SMR 20         151.858113  1518.581126\n",
       "SMR 5          154.633113  1546.331126\n",
       "SMR CV         220.601987  2206.019868\n",
       "SMR GP         153.939073  1539.390728\n",
       "SMR L          218.289901  2182.899007"
      ]
     },
     "execution_count": 209,
     "metadata": {},
     "output_type": "execute_result"
    }
   ],
   "source": [
    "da = df.groupby(by = 'grade').mean('price_usd')\n",
    "da"
   ]
  },
  {
   "cell_type": "code",
   "execution_count": 210,
   "metadata": {},
   "outputs": [],
   "source": [
    "import matplotlib.pyplot as plt\n",
    "%matplotlib inline"
   ]
  },
  {
   "cell_type": "code",
   "execution_count": 211,
   "metadata": {},
   "outputs": [
    {
     "data": {
      "image/png": "[encoded data removed]",
      "text/plain": [
       "<Figure size 640x480 with 1 Axes>"
      ]
     },
     "metadata": {},
     "output_type": "display_data"
    }
   ],
   "source": [
    "plt.bar(da.index, da.price_usd)\n",
    "plt.axhline(y=ck_price_base, color='r', linestyle='-')\n",
    "plt.show()"
   ]
  },
  {
   "cell_type": "code",
   "execution_count": 19,
   "metadata": {},
   "outputs": [],
   "source": [
    "# в качестве ориентира базовой цены берем price_usd для \"Latex in Bulk\""
   ]
  },
  {
   "cell_type": "code",
   "execution_count": 212,
   "metadata": {},
   "outputs": [
    {
     "data": {
      "text/html": [
       "<div>\n",
       "<style scoped>\n",
       "    .dataframe tbody tr th:only-of-type {\n",
       "        vertical-align: middle;\n",
       "    }\n",
       "\n",
       "    .dataframe tbody tr th {\n",
       "        vertical-align: top;\n",
       "    }\n",
       "\n",
       "    .dataframe thead th {\n",
       "        text-align: right;\n",
       "    }\n",
       "</style>\n",
       "<table border=\"1\" class=\"dataframe\">\n",
       "  <thead>\n",
       "    <tr style=\"text-align: right;\">\n",
       "      <th></th>\n",
       "      <th>date</th>\n",
       "      <th>grade</th>\n",
       "      <th>masa</th>\n",
       "      <th>rm</th>\n",
       "      <th>us</th>\n",
       "      <th>tone</th>\n",
       "      <th>price_usd</th>\n",
       "    </tr>\n",
       "  </thead>\n",
       "  <tbody>\n",
       "    <tr>\n",
       "      <th>0</th>\n",
       "      <td>2022-01-28</td>\n",
       "      <td>SMR CV</td>\n",
       "      <td>Noon</td>\n",
       "      <td>1002.50</td>\n",
       "      <td>242.70</td>\n",
       "      <td>Quiet</td>\n",
       "      <td>2427.0</td>\n",
       "    </tr>\n",
       "    <tr>\n",
       "      <th>1</th>\n",
       "      <td>2022-01-28</td>\n",
       "      <td>SMR L</td>\n",
       "      <td>Noon</td>\n",
       "      <td>992.50</td>\n",
       "      <td>240.25</td>\n",
       "      <td>Quiet</td>\n",
       "      <td>2402.5</td>\n",
       "    </tr>\n",
       "    <tr>\n",
       "      <th>2</th>\n",
       "      <td>2022-01-28</td>\n",
       "      <td>SMR 5</td>\n",
       "      <td>Noon</td>\n",
       "      <td>731.00</td>\n",
       "      <td>176.95</td>\n",
       "      <td>Quiet</td>\n",
       "      <td>1769.5</td>\n",
       "    </tr>\n",
       "    <tr>\n",
       "      <th>3</th>\n",
       "      <td>2022-01-28</td>\n",
       "      <td>SMR GP</td>\n",
       "      <td>Noon</td>\n",
       "      <td>728.00</td>\n",
       "      <td>176.25</td>\n",
       "      <td>Quiet</td>\n",
       "      <td>1762.5</td>\n",
       "    </tr>\n",
       "    <tr>\n",
       "      <th>4</th>\n",
       "      <td>2022-01-28</td>\n",
       "      <td>SMR 10</td>\n",
       "      <td>Noon</td>\n",
       "      <td>721.00</td>\n",
       "      <td>174.55</td>\n",
       "      <td>Quiet</td>\n",
       "      <td>1745.5</td>\n",
       "    </tr>\n",
       "  </tbody>\n",
       "</table>\n",
       "</div>"
      ],
      "text/plain": [
       "         date   grade  masa       rm      us   tone  price_usd\n",
       "0  2022-01-28  SMR CV  Noon  1002.50  242.70  Quiet     2427.0\n",
       "1  2022-01-28   SMR L  Noon   992.50  240.25  Quiet     2402.5\n",
       "2  2022-01-28   SMR 5  Noon   731.00  176.95  Quiet     1769.5\n",
       "3  2022-01-28  SMR GP  Noon   728.00  176.25  Quiet     1762.5\n",
       "4  2022-01-28  SMR 10  Noon   721.00  174.55  Quiet     1745.5"
      ]
     },
     "execution_count": 212,
     "metadata": {},
     "output_type": "execute_result"
    }
   ],
   "source": [
    "df.head()"
   ]
  },
  {
   "cell_type": "code",
   "execution_count": 213,
   "metadata": {},
   "outputs": [
    {
     "name": "stderr",
     "output_type": "stream",
     "text": [
      "C:\\Users\\liz_o\\AppData\\Local\\Temp\\ipykernel_45444\\3206578178.py:4: SettingWithCopyWarning: \n",
      "A value is trying to be set on a copy of a slice from a DataFrame.\n",
      "Try using .loc[row_indexer,col_indexer] = value instead\n",
      "\n",
      "See the caveats in the documentation: https://pandas.pydata.org/pandas-docs/stable/user_guide/indexing.html#returning-a-view-versus-a-copy\n",
      "  client_df2['date'] = pd.to_datetime(client_df2.date, format='%Y-%m-%d')\n"
     ]
    },
    {
     "data": {
      "text/html": [
       "<div>\n",
       "<style scoped>\n",
       "    .dataframe tbody tr th:only-of-type {\n",
       "        vertical-align: middle;\n",
       "    }\n",
       "\n",
       "    .dataframe tbody tr th {\n",
       "        vertical-align: top;\n",
       "    }\n",
       "\n",
       "    .dataframe thead th {\n",
       "        text-align: right;\n",
       "    }\n",
       "</style>\n",
       "<table border=\"1\" class=\"dataframe\">\n",
       "  <thead>\n",
       "    <tr style=\"text-align: right;\">\n",
       "      <th></th>\n",
       "      <th>grade</th>\n",
       "      <th>masa</th>\n",
       "      <th>rm</th>\n",
       "      <th>us</th>\n",
       "      <th>tone</th>\n",
       "      <th>price_usd</th>\n",
       "    </tr>\n",
       "    <tr>\n",
       "      <th>date</th>\n",
       "      <th></th>\n",
       "      <th></th>\n",
       "      <th></th>\n",
       "      <th></th>\n",
       "      <th></th>\n",
       "      <th></th>\n",
       "    </tr>\n",
       "  </thead>\n",
       "  <tbody>\n",
       "    <tr>\n",
       "      <th>2022-01-28</th>\n",
       "      <td>Latex in Bulk</td>\n",
       "      <td>Noon</td>\n",
       "      <td>589.50</td>\n",
       "      <td>589.5</td>\n",
       "      <td>Quiet</td>\n",
       "      <td>5895.0</td>\n",
       "    </tr>\n",
       "    <tr>\n",
       "      <th>2022-01-27</th>\n",
       "      <td>Latex in Bulk</td>\n",
       "      <td>Noon</td>\n",
       "      <td>590.00</td>\n",
       "      <td>590.0</td>\n",
       "      <td>Quiet</td>\n",
       "      <td>5900.0</td>\n",
       "    </tr>\n",
       "    <tr>\n",
       "      <th>2022-01-26</th>\n",
       "      <td>Latex in Bulk</td>\n",
       "      <td>Noon</td>\n",
       "      <td>589.00</td>\n",
       "      <td>589.0</td>\n",
       "      <td>Quiet</td>\n",
       "      <td>5890.0</td>\n",
       "    </tr>\n",
       "    <tr>\n",
       "      <th>2022-01-25</th>\n",
       "      <td>Latex in Bulk</td>\n",
       "      <td>Noon</td>\n",
       "      <td>585.50</td>\n",
       "      <td>585.5</td>\n",
       "      <td>Quiet</td>\n",
       "      <td>5855.0</td>\n",
       "    </tr>\n",
       "    <tr>\n",
       "      <th>2022-01-24</th>\n",
       "      <td>Latex in Bulk</td>\n",
       "      <td>Noon</td>\n",
       "      <td>582.50</td>\n",
       "      <td>582.5</td>\n",
       "      <td>Quiet</td>\n",
       "      <td>5825.0</td>\n",
       "    </tr>\n",
       "  </tbody>\n",
       "</table>\n",
       "</div>"
      ],
      "text/plain": [
       "                    grade  masa      rm     us   tone  price_usd\n",
       "date                                                            \n",
       "2022-01-28  Latex in Bulk  Noon  589.50  589.5  Quiet     5895.0\n",
       "2022-01-27  Latex in Bulk  Noon  590.00  590.0  Quiet     5900.0\n",
       "2022-01-26  Latex in Bulk  Noon  589.00  589.0  Quiet     5890.0\n",
       "2022-01-25  Latex in Bulk  Noon  585.50  585.5  Quiet     5855.0\n",
       "2022-01-24  Latex in Bulk  Noon  582.50  582.5  Quiet     5825.0"
      ]
     },
     "execution_count": 213,
     "metadata": {},
     "output_type": "execute_result"
    }
   ],
   "source": [
    "#Сделать расчет возможной цены по формуле для каждого из клиентов на условиях DDP (цена с доставкой).\n",
    "#Записать все в один эксель файл, на разных листах. Каждый лист - название клиента.\n",
    "client_df2 = df[df.grade == 'Latex in Bulk']\n",
    "client_df2['date'] = pd.to_datetime(client_df2.date, format='%Y-%m-%d')\n",
    "client_df2.set_index(\"date\", inplace = True)\n",
    "client_df2.head()"
   ]
  },
  {
   "cell_type": "code",
   "execution_count": null,
   "metadata": {},
   "outputs": [],
   "source": [
    "#расчет возможной цены по формуле для каждого из клиентов на условиях DDP (цена с доставкой)\n",
    "#ck_price = df_ck.price_usd.mean() + PRODUCTION_COST + EU_LOGISTIC_COST_EUR"
   ]
  },
  {
   "cell_type": "code",
   "execution_count": 147,
   "metadata": {},
   "outputs": [
    {
     "data": {
      "text/plain": [
       "dict_keys(['Сonty', 'Triangle', 'Stone', 'Ant'])"
      ]
     },
     "execution_count": 147,
     "metadata": {},
     "output_type": "execute_result"
    }
   ],
   "source": [
    "customers.keys()"
   ]
  },
  {
   "cell_type": "code",
   "execution_count": 148,
   "metadata": {},
   "outputs": [
    {
     "data": {
      "text/plain": [
       "dict_values([{'location': 'EU', 'volumes': 200, 'comment': 'moving_average'}, {'location': 'CN', 'volumes': 30, 'comment': 'monthly'}, {'location': 'EU', 'volumes': 150, 'comment': 'moving_average'}, {'location': 'EU', 'volumes': 70, 'comment': 'monthly'}])"
      ]
     },
     "execution_count": 148,
     "metadata": {},
     "output_type": "execute_result"
    }
   ],
   "source": [
    "customers.values()"
   ]
  },
  {
   "cell_type": "code",
   "execution_count": 197,
   "metadata": {},
   "outputs": [],
   "source": [
    "def check_volume_discounts(x):\n",
    "    if 0 < x <= 99:\n",
    "        return 0.01\n",
    "    elif 99 < x <= 299:\n",
    "        return 0.05\n",
    "    elif x >= 300:\n",
    "        return 0.1\n",
    "    else:\n",
    "        return 0"
   ]
  },
  {
   "cell_type": "code",
   "execution_count": 198,
   "metadata": {},
   "outputs": [
    {
     "name": "stdout",
     "output_type": "stream",
     "text": [
      "[[{'Сonty': 305.6283112582782}], [{'Triangle': 61.12566225165563}], [{'Stone': 305.6283112582782}], [{'Ant': 61.12566225165563}]]\n"
     ]
    }
   ],
   "source": [
    "clints = []\n",
    "xlfilepath = 'wbp_prices.xlsx'\n",
    "with pd.ExcelWriter(xlfilepath, engine='xlsxwriter') as writer:\n",
    "    for i , j in customers.items():\n",
    "        for z, x in j.items():\n",
    "            if z == 'location':\n",
    "                base_price = df_ck.price_usd.mean() + PRODUCTION_COST + [EU_LOGISTIC_COST_EUR if z == 'EU' else CN_LOGISTIC_COST_USD]\n",
    "            elif z == 'volumes':\n",
    "                base_price *= check_volume_discounts(x)\n",
    "            else:\n",
    "                clints.append([{i: float(base_price)}])\n",
    "    print(clints)"
   ]
  },
  {
   "cell_type": "code",
   "execution_count": 214,
   "metadata": {},
   "outputs": [
    {
     "data": {
      "text/html": [
       "<div>\n",
       "<style scoped>\n",
       "    .dataframe tbody tr th:only-of-type {\n",
       "        vertical-align: middle;\n",
       "    }\n",
       "\n",
       "    .dataframe tbody tr th {\n",
       "        vertical-align: top;\n",
       "    }\n",
       "\n",
       "    .dataframe thead th {\n",
       "        text-align: right;\n",
       "    }\n",
       "</style>\n",
       "<table border=\"1\" class=\"dataframe\">\n",
       "  <thead>\n",
       "    <tr style=\"text-align: right;\">\n",
       "      <th></th>\n",
       "      <th>grade</th>\n",
       "      <th>masa</th>\n",
       "      <th>rm</th>\n",
       "      <th>us</th>\n",
       "      <th>tone</th>\n",
       "      <th>price_usd</th>\n",
       "    </tr>\n",
       "    <tr>\n",
       "      <th>date</th>\n",
       "      <th></th>\n",
       "      <th></th>\n",
       "      <th></th>\n",
       "      <th></th>\n",
       "      <th></th>\n",
       "      <th></th>\n",
       "    </tr>\n",
       "  </thead>\n",
       "  <tbody>\n",
       "    <tr>\n",
       "      <th>2022-01-28</th>\n",
       "      <td>Latex in Bulk</td>\n",
       "      <td>Noon</td>\n",
       "      <td>589.50</td>\n",
       "      <td>589.5</td>\n",
       "      <td>Quiet</td>\n",
       "      <td>5895.0</td>\n",
       "    </tr>\n",
       "    <tr>\n",
       "      <th>2022-01-27</th>\n",
       "      <td>Latex in Bulk</td>\n",
       "      <td>Noon</td>\n",
       "      <td>590.00</td>\n",
       "      <td>590.0</td>\n",
       "      <td>Quiet</td>\n",
       "      <td>5900.0</td>\n",
       "    </tr>\n",
       "    <tr>\n",
       "      <th>2022-01-26</th>\n",
       "      <td>Latex in Bulk</td>\n",
       "      <td>Noon</td>\n",
       "      <td>589.00</td>\n",
       "      <td>589.0</td>\n",
       "      <td>Quiet</td>\n",
       "      <td>5890.0</td>\n",
       "    </tr>\n",
       "    <tr>\n",
       "      <th>2022-01-25</th>\n",
       "      <td>Latex in Bulk</td>\n",
       "      <td>Noon</td>\n",
       "      <td>585.50</td>\n",
       "      <td>585.5</td>\n",
       "      <td>Quiet</td>\n",
       "      <td>5855.0</td>\n",
       "    </tr>\n",
       "    <tr>\n",
       "      <th>2022-01-24</th>\n",
       "      <td>Latex in Bulk</td>\n",
       "      <td>Noon</td>\n",
       "      <td>582.50</td>\n",
       "      <td>582.5</td>\n",
       "      <td>Quiet</td>\n",
       "      <td>5825.0</td>\n",
       "    </tr>\n",
       "  </tbody>\n",
       "</table>\n",
       "</div>"
      ],
      "text/plain": [
       "                    grade  masa      rm     us   tone  price_usd\n",
       "date                                                            \n",
       "2022-01-28  Latex in Bulk  Noon  589.50  589.5  Quiet     5895.0\n",
       "2022-01-27  Latex in Bulk  Noon  590.00  590.0  Quiet     5900.0\n",
       "2022-01-26  Latex in Bulk  Noon  589.00  589.0  Quiet     5890.0\n",
       "2022-01-25  Latex in Bulk  Noon  585.50  585.5  Quiet     5855.0\n",
       "2022-01-24  Latex in Bulk  Noon  582.50  582.5  Quiet     5825.0"
      ]
     },
     "execution_count": 214,
     "metadata": {},
     "output_type": "execute_result"
    }
   ],
   "source": [
    "client_df2.head()"
   ]
  },
  {
   "cell_type": "code",
   "execution_count": 215,
   "metadata": {},
   "outputs": [
    {
     "data": {
      "text/html": [
       "<div>\n",
       "<style scoped>\n",
       "    .dataframe tbody tr th:only-of-type {\n",
       "        vertical-align: middle;\n",
       "    }\n",
       "\n",
       "    .dataframe tbody tr th {\n",
       "        vertical-align: top;\n",
       "    }\n",
       "\n",
       "    .dataframe thead th {\n",
       "        text-align: right;\n",
       "    }\n",
       "</style>\n",
       "<table border=\"1\" class=\"dataframe\">\n",
       "  <thead>\n",
       "    <tr style=\"text-align: right;\">\n",
       "      <th></th>\n",
       "      <th>Open</th>\n",
       "      <th>High</th>\n",
       "      <th>Low</th>\n",
       "      <th>Close</th>\n",
       "      <th>Adj Close</th>\n",
       "      <th>Volume</th>\n",
       "    </tr>\n",
       "    <tr>\n",
       "      <th>Date</th>\n",
       "      <th></th>\n",
       "      <th></th>\n",
       "      <th></th>\n",
       "      <th></th>\n",
       "      <th></th>\n",
       "      <th></th>\n",
       "    </tr>\n",
       "  </thead>\n",
       "  <tbody>\n",
       "    <tr>\n",
       "      <th>2000-08-23</th>\n",
       "      <td>31.950001</td>\n",
       "      <td>32.799999</td>\n",
       "      <td>31.950001</td>\n",
       "      <td>32.049999</td>\n",
       "      <td>32.049999</td>\n",
       "      <td>79385</td>\n",
       "    </tr>\n",
       "    <tr>\n",
       "      <th>2000-08-24</th>\n",
       "      <td>31.900000</td>\n",
       "      <td>32.240002</td>\n",
       "      <td>31.400000</td>\n",
       "      <td>31.629999</td>\n",
       "      <td>31.629999</td>\n",
       "      <td>72978</td>\n",
       "    </tr>\n",
       "    <tr>\n",
       "      <th>2000-08-25</th>\n",
       "      <td>31.700001</td>\n",
       "      <td>32.099998</td>\n",
       "      <td>31.320000</td>\n",
       "      <td>32.049999</td>\n",
       "      <td>32.049999</td>\n",
       "      <td>44601</td>\n",
       "    </tr>\n",
       "    <tr>\n",
       "      <th>2000-08-28</th>\n",
       "      <td>32.040001</td>\n",
       "      <td>32.919998</td>\n",
       "      <td>31.860001</td>\n",
       "      <td>32.869999</td>\n",
       "      <td>32.869999</td>\n",
       "      <td>46770</td>\n",
       "    </tr>\n",
       "    <tr>\n",
       "      <th>2000-08-29</th>\n",
       "      <td>32.820000</td>\n",
       "      <td>33.029999</td>\n",
       "      <td>32.560001</td>\n",
       "      <td>32.720001</td>\n",
       "      <td>32.720001</td>\n",
       "      <td>49131</td>\n",
       "    </tr>\n",
       "  </tbody>\n",
       "</table>\n",
       "</div>"
      ],
      "text/plain": [
       "                 Open       High        Low      Close  Adj Close  Volume\n",
       "Date                                                                     \n",
       "2000-08-23  31.950001  32.799999  31.950001  32.049999  32.049999   79385\n",
       "2000-08-24  31.900000  32.240002  31.400000  31.629999  31.629999   72978\n",
       "2000-08-25  31.700001  32.099998  31.320000  32.049999  32.049999   44601\n",
       "2000-08-28  32.040001  32.919998  31.860001  32.869999  32.869999   46770\n",
       "2000-08-29  32.820000  33.029999  32.560001  32.720001  32.720001   49131"
      ]
     },
     "execution_count": 215,
     "metadata": {},
     "output_type": "execute_result"
    }
   ],
   "source": [
    "crude_oil.head()"
   ]
  },
  {
   "cell_type": "code",
   "execution_count": 216,
   "metadata": {},
   "outputs": [
    {
     "name": "stderr",
     "output_type": "stream",
     "text": [
      "C:\\Users\\liz_o\\AppData\\Local\\Temp\\ipykernel_45444\\247848054.py:1: FutureWarning: The default value of numeric_only in DataFrameGroupBy.mean is deprecated. In a future version, numeric_only will default to False. Either specify numeric_only or select only columns which should be valid for the function.\n",
      "  df2 = pd.concat([crude_oil.resample('M').mean()['Close'], client_df2.resample('M').mean()['price_usd']], axis=1)\n",
      "C:\\Users\\liz_o\\AppData\\Local\\Temp\\ipykernel_45444\\247848054.py:5: SettingWithCopyWarning: \n",
      "A value is trying to be set on a copy of a slice from a DataFrame.\n",
      "Try using .loc[row_indexer,col_indexer] = value instead\n",
      "\n",
      "See the caveats in the documentation: https://pandas.pydata.org/pandas-docs/stable/user_guide/indexing.html#returning-a-view-versus-a-copy\n",
      "  df3[\"proccessing_usd\"] = df3['eureusd'] * 400\n",
      "C:\\Users\\liz_o\\AppData\\Local\\Temp\\ipykernel_45444\\247848054.py:6: SettingWithCopyWarning: \n",
      "A value is trying to be set on a copy of a slice from a DataFrame.\n",
      "Try using .loc[row_indexer,col_indexer] = value instead\n",
      "\n",
      "See the caveats in the documentation: https://pandas.pydata.org/pandas-docs/stable/user_guide/indexing.html#returning-a-view-versus-a-copy\n",
      "  df3[\"base_wpb_price_usd\"] = df3[\"crude_oil_price\"]*16 + df3['proccessing_usd']\n"
     ]
    }
   ],
   "source": [
    "df2 = pd.concat([crude_oil.resample('M').mean()['Close'], client_df2.resample('M').mean()['price_usd']], axis=1)\n",
    "df2.columns = ['crude_oil_price', 'eureusd']\n",
    "df3 = df2['2022-01-01':'2022-12-31']\n",
    "# # Formula (16*CrudeOil + 400 ) * Discount + Logistics\n",
    "df3[\"proccessing_usd\"] = df3['eureusd'] * 400\n",
    "df3[\"base_wpb_price_usd\"] = df3[\"crude_oil_price\"]*16 + df3['proccessing_usd']\n"
   ]
  },
  {
   "cell_type": "code",
   "execution_count": 217,
   "metadata": {},
   "outputs": [
    {
     "data": {
      "text/html": [
       "<div>\n",
       "<style scoped>\n",
       "    .dataframe tbody tr th:only-of-type {\n",
       "        vertical-align: middle;\n",
       "    }\n",
       "\n",
       "    .dataframe tbody tr th {\n",
       "        vertical-align: top;\n",
       "    }\n",
       "\n",
       "    .dataframe thead th {\n",
       "        text-align: right;\n",
       "    }\n",
       "</style>\n",
       "<table border=\"1\" class=\"dataframe\">\n",
       "  <thead>\n",
       "    <tr style=\"text-align: right;\">\n",
       "      <th></th>\n",
       "      <th>crude_oil_price</th>\n",
       "      <th>eureusd</th>\n",
       "      <th>proccessing_usd</th>\n",
       "      <th>base_wpb_price_usd</th>\n",
       "    </tr>\n",
       "  </thead>\n",
       "  <tbody>\n",
       "    <tr>\n",
       "      <th>2022-01-31</th>\n",
       "      <td>82.979000</td>\n",
       "      <td>5720.789474</td>\n",
       "      <td>2.288316e+06</td>\n",
       "      <td>2.289643e+06</td>\n",
       "    </tr>\n",
       "    <tr>\n",
       "      <th>2022-02-28</th>\n",
       "      <td>91.628947</td>\n",
       "      <td>6581.388889</td>\n",
       "      <td>2.632556e+06</td>\n",
       "      <td>2.634022e+06</td>\n",
       "    </tr>\n",
       "    <tr>\n",
       "      <th>2022-03-31</th>\n",
       "      <td>108.262174</td>\n",
       "      <td>6835.652174</td>\n",
       "      <td>2.734261e+06</td>\n",
       "      <td>2.735993e+06</td>\n",
       "    </tr>\n",
       "    <tr>\n",
       "      <th>2022-04-30</th>\n",
       "      <td>101.640499</td>\n",
       "      <td>6664.736842</td>\n",
       "      <td>2.665895e+06</td>\n",
       "      <td>2.667521e+06</td>\n",
       "    </tr>\n",
       "    <tr>\n",
       "      <th>2022-05-31</th>\n",
       "      <td>109.259523</td>\n",
       "      <td>6706.944444</td>\n",
       "      <td>2.682778e+06</td>\n",
       "      <td>2.684526e+06</td>\n",
       "    </tr>\n",
       "    <tr>\n",
       "      <th>2022-06-30</th>\n",
       "      <td>114.154091</td>\n",
       "      <td>6326.904762</td>\n",
       "      <td>2.530762e+06</td>\n",
       "      <td>2.532588e+06</td>\n",
       "    </tr>\n",
       "    <tr>\n",
       "      <th>2022-07-31</th>\n",
       "      <td>99.384500</td>\n",
       "      <td>5322.750000</td>\n",
       "      <td>2.129100e+06</td>\n",
       "      <td>2.130690e+06</td>\n",
       "    </tr>\n",
       "    <tr>\n",
       "      <th>2022-08-31</th>\n",
       "      <td>91.482609</td>\n",
       "      <td>5147.272727</td>\n",
       "      <td>2.058909e+06</td>\n",
       "      <td>2.060373e+06</td>\n",
       "    </tr>\n",
       "    <tr>\n",
       "      <th>2022-09-30</th>\n",
       "      <td>83.801905</td>\n",
       "      <td>4767.619048</td>\n",
       "      <td>1.907048e+06</td>\n",
       "      <td>1.908388e+06</td>\n",
       "    </tr>\n",
       "    <tr>\n",
       "      <th>2022-10-31</th>\n",
       "      <td>87.030952</td>\n",
       "      <td>4664.210526</td>\n",
       "      <td>1.865684e+06</td>\n",
       "      <td>1.867077e+06</td>\n",
       "    </tr>\n",
       "    <tr>\n",
       "      <th>2022-11-30</th>\n",
       "      <td>84.385715</td>\n",
       "      <td>4725.750000</td>\n",
       "      <td>1.890300e+06</td>\n",
       "      <td>1.891650e+06</td>\n",
       "    </tr>\n",
       "    <tr>\n",
       "      <th>2022-12-31</th>\n",
       "      <td>76.518095</td>\n",
       "      <td>4702.142857</td>\n",
       "      <td>1.880857e+06</td>\n",
       "      <td>1.882081e+06</td>\n",
       "    </tr>\n",
       "  </tbody>\n",
       "</table>\n",
       "</div>"
      ],
      "text/plain": [
       "            crude_oil_price      eureusd  proccessing_usd  base_wpb_price_usd\n",
       "2022-01-31        82.979000  5720.789474     2.288316e+06        2.289643e+06\n",
       "2022-02-28        91.628947  6581.388889     2.632556e+06        2.634022e+06\n",
       "2022-03-31       108.262174  6835.652174     2.734261e+06        2.735993e+06\n",
       "2022-04-30       101.640499  6664.736842     2.665895e+06        2.667521e+06\n",
       "2022-05-31       109.259523  6706.944444     2.682778e+06        2.684526e+06\n",
       "2022-06-30       114.154091  6326.904762     2.530762e+06        2.532588e+06\n",
       "2022-07-31        99.384500  5322.750000     2.129100e+06        2.130690e+06\n",
       "2022-08-31        91.482609  5147.272727     2.058909e+06        2.060373e+06\n",
       "2022-09-30        83.801905  4767.619048     1.907048e+06        1.908388e+06\n",
       "2022-10-31        87.030952  4664.210526     1.865684e+06        1.867077e+06\n",
       "2022-11-30        84.385715  4725.750000     1.890300e+06        1.891650e+06\n",
       "2022-12-31        76.518095  4702.142857     1.880857e+06        1.882081e+06"
      ]
     },
     "execution_count": 217,
     "metadata": {},
     "output_type": "execute_result"
    }
   ],
   "source": [
    "df3"
   ]
  },
  {
   "cell_type": "code",
   "execution_count": 206,
   "metadata": {},
   "outputs": [
    {
     "ename": "AttributeError",
     "evalue": "'DataFrame' object has no attribute 'Date'",
     "output_type": "error",
     "traceback": [
      "\u001b[1;31m---------------------------------------------------------------------------\u001b[0m",
      "\u001b[1;31mAttributeError\u001b[0m                            Traceback (most recent call last)",
      "Cell \u001b[1;32mIn[206], line 27\u001b[0m\n\u001b[0;32m     25\u001b[0m client_df \u001b[38;5;241m=\u001b[39m client_df\u001b[38;5;241m.\u001b[39mround(\u001b[38;5;241m2\u001b[39m)\n\u001b[0;32m     26\u001b[0m client_df \u001b[38;5;241m=\u001b[39m client_df\u001b[38;5;241m.\u001b[39mreset_index()\n\u001b[1;32m---> 27\u001b[0m client_df\u001b[38;5;241m.\u001b[39mDate \u001b[38;5;241m=\u001b[39m \u001b[43mclient_df\u001b[49m\u001b[38;5;241;43m.\u001b[39;49m\u001b[43mDate\u001b[49m\u001b[38;5;241m.\u001b[39mdt\u001b[38;5;241m.\u001b[39mstrftime(\u001b[38;5;124m'\u001b[39m\u001b[38;5;124m%\u001b[39m\u001b[38;5;124mB \u001b[39m\u001b[38;5;124m%\u001b[39m\u001b[38;5;124mY\u001b[39m\u001b[38;5;124m'\u001b[39m)\n\u001b[0;32m     29\u001b[0m max_row, max_col \u001b[38;5;241m=\u001b[39m client_df\u001b[38;5;241m.\u001b[39mshape\n\u001b[0;32m     30\u001b[0m client_df\u001b[38;5;241m.\u001b[39mto_excel(writer, sheet_name\u001b[38;5;241m=\u001b[39mclient_name, startrow\u001b[38;5;241m=\u001b[39m\u001b[38;5;241m1\u001b[39m, header\u001b[38;5;241m=\u001b[39m\u001b[38;5;28;01mFalse\u001b[39;00m, index\u001b[38;5;241m=\u001b[39m\u001b[38;5;28;01mFalse\u001b[39;00m)\n",
      "File \u001b[1;32mC:\\ProgramData\\anaconda3\\lib\\site-packages\\pandas\\core\\generic.py:5902\u001b[0m, in \u001b[0;36mNDFrame.__getattr__\u001b[1;34m(self, name)\u001b[0m\n\u001b[0;32m   5895\u001b[0m \u001b[38;5;28;01mif\u001b[39;00m (\n\u001b[0;32m   5896\u001b[0m     name \u001b[38;5;129;01mnot\u001b[39;00m \u001b[38;5;129;01min\u001b[39;00m \u001b[38;5;28mself\u001b[39m\u001b[38;5;241m.\u001b[39m_internal_names_set\n\u001b[0;32m   5897\u001b[0m     \u001b[38;5;129;01mand\u001b[39;00m name \u001b[38;5;129;01mnot\u001b[39;00m \u001b[38;5;129;01min\u001b[39;00m \u001b[38;5;28mself\u001b[39m\u001b[38;5;241m.\u001b[39m_metadata\n\u001b[0;32m   5898\u001b[0m     \u001b[38;5;129;01mand\u001b[39;00m name \u001b[38;5;129;01mnot\u001b[39;00m \u001b[38;5;129;01min\u001b[39;00m \u001b[38;5;28mself\u001b[39m\u001b[38;5;241m.\u001b[39m_accessors\n\u001b[0;32m   5899\u001b[0m     \u001b[38;5;129;01mand\u001b[39;00m \u001b[38;5;28mself\u001b[39m\u001b[38;5;241m.\u001b[39m_info_axis\u001b[38;5;241m.\u001b[39m_can_hold_identifiers_and_holds_name(name)\n\u001b[0;32m   5900\u001b[0m ):\n\u001b[0;32m   5901\u001b[0m     \u001b[38;5;28;01mreturn\u001b[39;00m \u001b[38;5;28mself\u001b[39m[name]\n\u001b[1;32m-> 5902\u001b[0m \u001b[38;5;28;01mreturn\u001b[39;00m \u001b[38;5;28;43mobject\u001b[39;49m\u001b[38;5;241;43m.\u001b[39;49m\u001b[38;5;21;43m__getattribute__\u001b[39;49m\u001b[43m(\u001b[49m\u001b[38;5;28;43mself\u001b[39;49m\u001b[43m,\u001b[49m\u001b[43m \u001b[49m\u001b[43mname\u001b[49m\u001b[43m)\u001b[49m\n",
      "\u001b[1;31mAttributeError\u001b[0m: 'DataFrame' object has no attribute 'Date'"
     ]
    }
   ],
   "source": [
    "xlfilepath = 'wbp_prices.xlsx'\n",
    "with pd.ExcelWriter(xlfilepath, engine='xlsxwriter') as writer:\n",
    "    for client_name, client_info in customers.items():\n",
    "        client_df = df2.copy()\n",
    "    \n",
    "    if client_info.get('location') == 'EU':\n",
    "      client_df['logistics'] = EU_LOGISTIC_COST_EUR\n",
    "      client_df['logistics'] = client_df['eureusd'] * EU_LOGISTIC_COST_EUR\n",
    "    elif client_info.get('location') == 'CN':\n",
    "      client_df['logistics'] = CN_LOGISTIC_COST_USD\n",
    "    \n",
    "    if client_info.get('volumes'):\n",
    "      client_df['volumes'] = client_info.get('volumes')\n",
    "\n",
    "    client_df['discount'] = client_df['volumes'].apply(check_volume_discounts)\n",
    "    client_df['WBP_price_usd'] = client_df['base_wpb_price_usd'] * (1-client_df['discount']) + client_df['logistics']\n",
    "    \n",
    "    client_df['WBP_price_usd'].plot(color='red', linestyle=\"dashed\")\n",
    "    plt.title(f\"Client {client_name} WBP Price\")\n",
    "    plt.ylabel(\"USD\")\n",
    "    plt.tight_layout()\n",
    "    plt.savefig(f'{client_name}_wbp_price.png')\n",
    "    plt.close()\n",
    "\n",
    "    client_df = client_df.round(2)\n",
    "    client_df = client_df.reset_index()\n",
    "    client_df.Date = client_df.Date.dt.strftime('%B %Y')\n",
    "    \n",
    "    max_row, max_col = client_df.shape\n",
    "    client_df.to_excel(writer, sheet_name=client_name, startrow=1, header=False, index=False)\n",
    "    workbook = writer.book\n",
    "    worksheet = writer.sheets[client_name]\n",
    "    column_settings = [{'header': column} for column in client_df.columns]\n",
    "    worksheet.add_table(0, 0, max_row, max_col - 1, {'columns': column_settings})\n",
    "    worksheet.insert_image(max_row + 3, 1, f'{client_name}_wbp_price.png')\n",
    "    "
   ]
  },
  {
   "cell_type": "markdown",
   "metadata": {},
   "source": [
    "# Задание 2"
   ]
  },
  {
   "cell_type": "markdown",
   "metadata": {},
   "source": [
    "Клиенты согласились на ваше предложение. \n",
    "Вам нужно сделать написать скрипт, с помощью которого можно автоматом рассчитывать цены для всех клиентов одновременно. \n",
    "Важный момент: данные для расчета скрипт должен подтягивать сам."
   ]
  },
  {
   "cell_type": "code",
   "execution_count": 127,
   "metadata": {},
   "outputs": [
    {
     "data": {
      "text/html": [
       "<div>\n",
       "<style scoped>\n",
       "    .dataframe tbody tr th:only-of-type {\n",
       "        vertical-align: middle;\n",
       "    }\n",
       "\n",
       "    .dataframe tbody tr th {\n",
       "        vertical-align: top;\n",
       "    }\n",
       "\n",
       "    .dataframe thead th {\n",
       "        text-align: right;\n",
       "    }\n",
       "</style>\n",
       "<table border=\"1\" class=\"dataframe\">\n",
       "  <thead>\n",
       "    <tr style=\"text-align: right;\">\n",
       "      <th></th>\n",
       "      <th>grade</th>\n",
       "      <th>masa</th>\n",
       "      <th>rm</th>\n",
       "      <th>us</th>\n",
       "      <th>tone</th>\n",
       "      <th>price_usd</th>\n",
       "    </tr>\n",
       "    <tr>\n",
       "      <th>date</th>\n",
       "      <th></th>\n",
       "      <th></th>\n",
       "      <th></th>\n",
       "      <th></th>\n",
       "      <th></th>\n",
       "      <th></th>\n",
       "    </tr>\n",
       "  </thead>\n",
       "  <tbody>\n",
       "    <tr>\n",
       "      <th>2022-01-28</th>\n",
       "      <td>Latex in Bulk</td>\n",
       "      <td>Noon</td>\n",
       "      <td>589.50</td>\n",
       "      <td>589.5</td>\n",
       "      <td>Quiet</td>\n",
       "      <td>5895.0</td>\n",
       "    </tr>\n",
       "    <tr>\n",
       "      <th>2022-01-27</th>\n",
       "      <td>Latex in Bulk</td>\n",
       "      <td>Noon</td>\n",
       "      <td>590.00</td>\n",
       "      <td>590.0</td>\n",
       "      <td>Quiet</td>\n",
       "      <td>5900.0</td>\n",
       "    </tr>\n",
       "    <tr>\n",
       "      <th>2022-01-26</th>\n",
       "      <td>Latex in Bulk</td>\n",
       "      <td>Noon</td>\n",
       "      <td>589.00</td>\n",
       "      <td>589.0</td>\n",
       "      <td>Quiet</td>\n",
       "      <td>5890.0</td>\n",
       "    </tr>\n",
       "    <tr>\n",
       "      <th>2022-01-25</th>\n",
       "      <td>Latex in Bulk</td>\n",
       "      <td>Noon</td>\n",
       "      <td>585.50</td>\n",
       "      <td>585.5</td>\n",
       "      <td>Quiet</td>\n",
       "      <td>5855.0</td>\n",
       "    </tr>\n",
       "    <tr>\n",
       "      <th>2022-01-24</th>\n",
       "      <td>Latex in Bulk</td>\n",
       "      <td>Noon</td>\n",
       "      <td>582.50</td>\n",
       "      <td>582.5</td>\n",
       "      <td>Quiet</td>\n",
       "      <td>5825.0</td>\n",
       "    </tr>\n",
       "  </tbody>\n",
       "</table>\n",
       "</div>"
      ],
      "text/plain": [
       "                    grade  masa      rm     us   tone  price_usd\n",
       "date                                                            \n",
       "2022-01-28  Latex in Bulk  Noon  589.50  589.5  Quiet     5895.0\n",
       "2022-01-27  Latex in Bulk  Noon  590.00  590.0  Quiet     5900.0\n",
       "2022-01-26  Latex in Bulk  Noon  589.00  589.0  Quiet     5890.0\n",
       "2022-01-25  Latex in Bulk  Noon  585.50  585.5  Quiet     5855.0\n",
       "2022-01-24  Latex in Bulk  Noon  582.50  582.5  Quiet     5825.0"
      ]
     },
     "execution_count": 127,
     "metadata": {},
     "output_type": "execute_result"
    }
   ],
   "source": [
    "client_df = df[df.grade == 'Latex in Bulk']\n",
    "pd.to_datetime(client_df.date, format='%Y-%m-%d')\n",
    "client_df.set_index(\"date\", inplace = True)\n",
    "client_df.head()"
   ]
  },
  {
   "cell_type": "code",
   "execution_count": 130,
   "metadata": {},
   "outputs": [
    {
     "ename": "ValueError",
     "evalue": "cannot insert level_0, already exists",
     "output_type": "error",
     "traceback": [
      "\u001b[1;31m---------------------------------------------------------------------------\u001b[0m",
      "\u001b[1;31mValueError\u001b[0m                                Traceback (most recent call last)",
      "Cell \u001b[1;32mIn[130], line 28\u001b[0m\n\u001b[0;32m     25\u001b[0m plt\u001b[38;5;241m.\u001b[39mclose()\n\u001b[0;32m     27\u001b[0m client_df \u001b[38;5;241m=\u001b[39m client_df\u001b[38;5;241m.\u001b[39mround(\u001b[38;5;241m2\u001b[39m)\n\u001b[1;32m---> 28\u001b[0m client_df \u001b[38;5;241m=\u001b[39m \u001b[43mclient_df\u001b[49m\u001b[38;5;241;43m.\u001b[39;49m\u001b[43mreset_index\u001b[49m\u001b[43m(\u001b[49m\u001b[43m)\u001b[49m\n\u001b[0;32m     29\u001b[0m pd\u001b[38;5;241m.\u001b[39mto_datetime(client_df\u001b[38;5;241m.\u001b[39mdate, \u001b[38;5;28mformat\u001b[39m\u001b[38;5;241m=\u001b[39m\u001b[38;5;124m'\u001b[39m\u001b[38;5;124m%\u001b[39m\u001b[38;5;124mY-\u001b[39m\u001b[38;5;124m%\u001b[39m\u001b[38;5;124mm-\u001b[39m\u001b[38;5;132;01m%d\u001b[39;00m\u001b[38;5;124m'\u001b[39m)\n\u001b[0;32m     30\u001b[0m client_df\u001b[38;5;241m.\u001b[39mdate \u001b[38;5;241m=\u001b[39m client_df\u001b[38;5;241m.\u001b[39mdate\u001b[38;5;241m.\u001b[39mdt\u001b[38;5;241m.\u001b[39mstrftime(\u001b[38;5;124m'\u001b[39m\u001b[38;5;124m%\u001b[39m\u001b[38;5;124mB \u001b[39m\u001b[38;5;124m%\u001b[39m\u001b[38;5;124mY\u001b[39m\u001b[38;5;124m'\u001b[39m)\n",
      "File \u001b[1;32mC:\\ProgramData\\anaconda3\\lib\\site-packages\\pandas\\util\\_decorators.py:331\u001b[0m, in \u001b[0;36mdeprecate_nonkeyword_arguments.<locals>.decorate.<locals>.wrapper\u001b[1;34m(*args, **kwargs)\u001b[0m\n\u001b[0;32m    325\u001b[0m \u001b[38;5;28;01mif\u001b[39;00m \u001b[38;5;28mlen\u001b[39m(args) \u001b[38;5;241m>\u001b[39m num_allow_args:\n\u001b[0;32m    326\u001b[0m     warnings\u001b[38;5;241m.\u001b[39mwarn(\n\u001b[0;32m    327\u001b[0m         msg\u001b[38;5;241m.\u001b[39mformat(arguments\u001b[38;5;241m=\u001b[39m_format_argument_list(allow_args)),\n\u001b[0;32m    328\u001b[0m         \u001b[38;5;167;01mFutureWarning\u001b[39;00m,\n\u001b[0;32m    329\u001b[0m         stacklevel\u001b[38;5;241m=\u001b[39mfind_stack_level(),\n\u001b[0;32m    330\u001b[0m     )\n\u001b[1;32m--> 331\u001b[0m \u001b[38;5;28;01mreturn\u001b[39;00m func(\u001b[38;5;241m*\u001b[39margs, \u001b[38;5;241m*\u001b[39m\u001b[38;5;241m*\u001b[39mkwargs)\n",
      "File \u001b[1;32mC:\\ProgramData\\anaconda3\\lib\\site-packages\\pandas\\core\\frame.py:6361\u001b[0m, in \u001b[0;36mDataFrame.reset_index\u001b[1;34m(self, level, drop, inplace, col_level, col_fill, allow_duplicates, names)\u001b[0m\n\u001b[0;32m   6355\u001b[0m         \u001b[38;5;28;01mif\u001b[39;00m lab \u001b[38;5;129;01mis\u001b[39;00m \u001b[38;5;129;01mnot\u001b[39;00m \u001b[38;5;28;01mNone\u001b[39;00m:\n\u001b[0;32m   6356\u001b[0m             \u001b[38;5;66;03m# if we have the codes, extract the values with a mask\u001b[39;00m\n\u001b[0;32m   6357\u001b[0m             level_values \u001b[38;5;241m=\u001b[39m algorithms\u001b[38;5;241m.\u001b[39mtake(\n\u001b[0;32m   6358\u001b[0m                 level_values, lab, allow_fill\u001b[38;5;241m=\u001b[39m\u001b[38;5;28;01mTrue\u001b[39;00m, fill_value\u001b[38;5;241m=\u001b[39mlev\u001b[38;5;241m.\u001b[39m_na_value\n\u001b[0;32m   6359\u001b[0m             )\n\u001b[1;32m-> 6361\u001b[0m         \u001b[43mnew_obj\u001b[49m\u001b[38;5;241;43m.\u001b[39;49m\u001b[43minsert\u001b[49m\u001b[43m(\u001b[49m\n\u001b[0;32m   6362\u001b[0m \u001b[43m            \u001b[49m\u001b[38;5;241;43m0\u001b[39;49m\u001b[43m,\u001b[49m\n\u001b[0;32m   6363\u001b[0m \u001b[43m            \u001b[49m\u001b[43mname\u001b[49m\u001b[43m,\u001b[49m\n\u001b[0;32m   6364\u001b[0m \u001b[43m            \u001b[49m\u001b[43mlevel_values\u001b[49m\u001b[43m,\u001b[49m\n\u001b[0;32m   6365\u001b[0m \u001b[43m            \u001b[49m\u001b[43mallow_duplicates\u001b[49m\u001b[38;5;241;43m=\u001b[39;49m\u001b[43mallow_duplicates\u001b[49m\u001b[43m,\u001b[49m\n\u001b[0;32m   6366\u001b[0m \u001b[43m        \u001b[49m\u001b[43m)\u001b[49m\n\u001b[0;32m   6368\u001b[0m new_obj\u001b[38;5;241m.\u001b[39mindex \u001b[38;5;241m=\u001b[39m new_index\n\u001b[0;32m   6369\u001b[0m \u001b[38;5;28;01mif\u001b[39;00m \u001b[38;5;129;01mnot\u001b[39;00m inplace:\n",
      "File \u001b[1;32mC:\\ProgramData\\anaconda3\\lib\\site-packages\\pandas\\core\\frame.py:4817\u001b[0m, in \u001b[0;36mDataFrame.insert\u001b[1;34m(self, loc, column, value, allow_duplicates)\u001b[0m\n\u001b[0;32m   4811\u001b[0m     \u001b[38;5;28;01mraise\u001b[39;00m \u001b[38;5;167;01mValueError\u001b[39;00m(\n\u001b[0;32m   4812\u001b[0m         \u001b[38;5;124m\"\u001b[39m\u001b[38;5;124mCannot specify \u001b[39m\u001b[38;5;124m'\u001b[39m\u001b[38;5;124mallow_duplicates=True\u001b[39m\u001b[38;5;124m'\u001b[39m\u001b[38;5;124m when \u001b[39m\u001b[38;5;124m\"\u001b[39m\n\u001b[0;32m   4813\u001b[0m         \u001b[38;5;124m\"\u001b[39m\u001b[38;5;124m'\u001b[39m\u001b[38;5;124mself.flags.allows_duplicate_labels\u001b[39m\u001b[38;5;124m'\u001b[39m\u001b[38;5;124m is False.\u001b[39m\u001b[38;5;124m\"\u001b[39m\n\u001b[0;32m   4814\u001b[0m     )\n\u001b[0;32m   4815\u001b[0m \u001b[38;5;28;01mif\u001b[39;00m \u001b[38;5;129;01mnot\u001b[39;00m allow_duplicates \u001b[38;5;129;01mand\u001b[39;00m column \u001b[38;5;129;01min\u001b[39;00m \u001b[38;5;28mself\u001b[39m\u001b[38;5;241m.\u001b[39mcolumns:\n\u001b[0;32m   4816\u001b[0m     \u001b[38;5;66;03m# Should this be a different kind of error??\u001b[39;00m\n\u001b[1;32m-> 4817\u001b[0m     \u001b[38;5;28;01mraise\u001b[39;00m \u001b[38;5;167;01mValueError\u001b[39;00m(\u001b[38;5;124mf\u001b[39m\u001b[38;5;124m\"\u001b[39m\u001b[38;5;124mcannot insert \u001b[39m\u001b[38;5;132;01m{\u001b[39;00mcolumn\u001b[38;5;132;01m}\u001b[39;00m\u001b[38;5;124m, already exists\u001b[39m\u001b[38;5;124m\"\u001b[39m)\n\u001b[0;32m   4818\u001b[0m \u001b[38;5;28;01mif\u001b[39;00m \u001b[38;5;129;01mnot\u001b[39;00m \u001b[38;5;28misinstance\u001b[39m(loc, \u001b[38;5;28mint\u001b[39m):\n\u001b[0;32m   4819\u001b[0m     \u001b[38;5;28;01mraise\u001b[39;00m \u001b[38;5;167;01mTypeError\u001b[39;00m(\u001b[38;5;124m\"\u001b[39m\u001b[38;5;124mloc must be int\u001b[39m\u001b[38;5;124m\"\u001b[39m)\n",
      "\u001b[1;31mValueError\u001b[0m: cannot insert level_0, already exists"
     ]
    }
   ],
   "source": [
    "import os\n",
    "clients_path = 'for_clients'\n",
    "os.makedirs(clients_path, exist_ok=True)\n",
    "\n",
    "for client_name, client_info in customers.items():\n",
    "    client_df = client_df.copy()\n",
    "  \n",
    "    if client_info.get('location') == 'EU':\n",
    "        client_df['logistics'] = EU_LOGISTIC_COST_EUR\n",
    "        client_df['logistics'] = client_df['price_usd'] * EU_LOGISTIC_COST_EUR\n",
    "    elif client_info.get('location') == 'CN':\n",
    "        client_df['logistics'] = CN_LOGISTIC_COST_USD\n",
    "  \n",
    "    if client_info.get('volumes'):\n",
    "        client_df['volumes'] = client_info.get('volumes')\n",
    "\n",
    "    client_df['discount'] = client_df['volumes'].apply(check_volume_discounts)\n",
    "    client_df['WBP_price_usd'] = client_df['price_usd'] * (1-client_df['discount']) + client_df['logistics']\n",
    "  \n",
    "    client_df['WBP_price_usd'].plot(color='red', linestyle=\"dashed\")\n",
    "    plt.title(f\"Client {client_name} WBP Price\")\n",
    "    plt.ylabel(\"USD\")\n",
    "    plt.tight_layout()\n",
    "    plt.savefig(f'{client_name}_wbp_price.png')\n",
    "    plt.close()\n",
    "\n",
    "    client_df = client_df.round(2)\n",
    "    client_df = client_df.reset_index()\n",
    "    client_df.date = client_df.date.dt.strftime('%B %Y')\n",
    "    \n",
    "    \n",
    "    max_row, max_col = client_df.shape\n",
    "    xlfilepath = os.path.join(clients_path, f'{client_name}_wbp_prices.xlsx')\n",
    "    with pd.ExcelWriter(xlfilepath, engine='xlsxwriter') as writer:\n",
    "        client_df.to_excel(writer, sheet_name=client_name, startrow=1, header=False, index=False)\n",
    "        workbook = writer.book\n",
    "        worksheet = writer.sheets[client_name]\n",
    "        column_settings = [{'header': column} for column in client_df.columns]\n",
    "        worksheet.add_table(0, 0, max_row, max_col - 1, {'columns': column_settings})\n",
    "        worksheet.insert_image(max_row + 3, 1, f'{client_name}_wbp_price.png')"
   ]
  },
  {
   "cell_type": "markdown",
   "metadata": {},
   "source": [
    "# Задание 3\n",
    "\n",
    "К вам пришел новый клиент из России. Который использует продукт А и готов регулярно закупать СК для того, чтобы не быть привязанным к одному поставщику. Клиент готов забирать СК с завода самостоятельно.\n",
    "На основе тех данных, которые уже есть предложите цену новому клиенту в рублях. \n",
    "\n"
   ]
  },
  {
   "cell_type": "code",
   "execution_count": 4,
   "metadata": {},
   "outputs": [],
   "source": [
    "#"
   ]
  },
  {
   "cell_type": "code",
   "execution_count": null,
   "metadata": {},
   "outputs": [],
   "source": []
  }
 ],
 "metadata": {
  "kernelspec": {
   "display_name": "Python 3 (ipykernel)",
   "language": "python",
   "name": "python3"
  },
  "language_info": {
   "codemirror_mode": {
    "name": "ipython",
    "version": 3
   },
   "file_extension": ".py",
   "mimetype": "text/x-python",
   "name": "python",
   "nbconvert_exporter": "python",
   "pygments_lexer": "ipython3",
   "version": "3.10.9"
  }
 },
 "nbformat": 4,
 "nbformat_minor": 2
}
